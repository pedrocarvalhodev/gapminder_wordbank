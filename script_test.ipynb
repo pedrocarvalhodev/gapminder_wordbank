{
 "cells": [
  {
   "cell_type": "code",
   "execution_count": null,
   "metadata": {},
   "outputs": [],
   "source": []
  },
  {
   "cell_type": "code",
   "execution_count": null,
   "metadata": {},
   "outputs": [],
   "source": [
    "# -*- coding: utf-8 -*-\n",
    "import pandas as pd\n",
    "\n",
    "from bokeh.core.properties import field\n",
    "from bokeh.io import curdoc\n",
    "from bokeh.layouts import layout\n",
    "from bokeh.models import (ColumnDataSource, \n",
    "                          HoverTool, \n",
    "                          SingleIntervalTicker,\n",
    "                          Slider, Button, Label, \n",
    "                          CategoricalColorMapper)\n",
    "from bokeh.palettes import Spectral6\n",
    "from bokeh.plotting import figure\n",
    "\n",
    "#import argparse\n",
    "\n",
    "#parser = argparse.ArgumentParser()\n",
    "#parser.add_argument(\"-s\", \"--save_data\", action=\"store_true\", \n",
    "#    help=\"-s : save info to data file\")\n",
    "#parser.add_argument(\"-r\", \"--read_data\", action=\"store_true\",\n",
    "#    help=\"-r : read info to data file\")\n",
    "\n",
    "#args = parser.parse_args()\n",
    "\n",
    "path='/home/pedro/repos/github_repos/gapminder_wordbank/data/'"
   ]
  },
  {
   "cell_type": "code",
   "execution_count": 1,
   "metadata": {},
   "outputs": [],
   "source": [
    "from process_data import get_data, indicator_by_code\n",
    "x_dim, y_dim, bubble_dim, regions_df, years, regions_list, dims = get_data()"
   ]
  },
  {
   "cell_type": "code",
   "execution_count": 2,
   "metadata": {},
   "outputs": [
    {
     "data": {
      "text/plain": [
       "{'x_dim': {'name': 'gdp_pc', 'code': 'NY.GDP.PCAP.PP.KD'},\n",
       " 'y_dim': {'name': 'unemployment_rate', 'code': 'UNEMPSA_'},\n",
       " 'bubble_dim': {'name': 'tech_export', 'code': 'TX.VAL.TECH.MF.ZS'}}"
      ]
     },
     "execution_count": 2,
     "metadata": {},
     "output_type": "execute_result"
    }
   ],
   "source": [
    "indicator_by_code"
   ]
  },
  {
   "cell_type": "code",
   "execution_count": 3,
   "metadata": {},
   "outputs": [
    {
     "data": {
      "text/plain": [
       "['gdp_pc', 'unemployment_rate', 'tech_export']"
      ]
     },
     "execution_count": 3,
     "metadata": {},
     "output_type": "execute_result"
    }
   ],
   "source": [
    "[indicator_by_code['x_dim'].get('name'),\n",
    "indicator_by_code['y_dim'].get('name'),\n",
    "indicator_by_code['bubble_dim'].get('name')]"
   ]
  },
  {
   "cell_type": "code",
   "execution_count": null,
   "metadata": {},
   "outputs": [],
   "source": [
    "x_dim.iloc[:2,-5:]"
   ]
  },
  {
   "cell_type": "code",
   "execution_count": null,
   "metadata": {},
   "outputs": [],
   "source": [
    "y_dim.iloc[:2,-5:]"
   ]
  },
  {
   "cell_type": "code",
   "execution_count": null,
   "metadata": {},
   "outputs": [],
   "source": [
    "bubble_dim.iloc[:2,-5:]"
   ]
  },
  {
   "cell_type": "code",
   "execution_count": null,
   "metadata": {},
   "outputs": [],
   "source": [
    "regions_df.iloc[:2,-5:]"
   ]
  },
  {
   "cell_type": "code",
   "execution_count": null,
   "metadata": {},
   "outputs": [],
   "source": [
    "years[:3]"
   ]
  },
  {
   "cell_type": "code",
   "execution_count": null,
   "metadata": {},
   "outputs": [],
   "source": [
    "regions_list[:3]"
   ]
  },
  {
   "cell_type": "code",
   "execution_count": null,
   "metadata": {},
   "outputs": [],
   "source": [
    "dims[:3]"
   ]
  },
  {
   "cell_type": "code",
   "execution_count": null,
   "metadata": {},
   "outputs": [],
   "source": [
    "x_dim.to_csv(path+'x_dim.csv') \n",
    "y_dim.to_csv(path+'y_dim.csv')\n",
    "bubble_dim.to_csv(path+'bubble_dim.csv')\n",
    "regions_df.to_csv(path+'regions_df.csv')\n",
    "#years.to_csv(path+'years.txt')\n",
    "#regions_list.to_csv(path+'regions_list.csv')\n",
    "#dims.to_csv(path+'dims.csv')"
   ]
  },
  {
   "cell_type": "code",
   "execution_count": null,
   "metadata": {},
   "outputs": [],
   "source": [
    "x_dim.to_csv(path+'x_dim.csv', index=True) "
   ]
  },
  {
   "cell_type": "code",
   "execution_count": null,
   "metadata": {},
   "outputs": [],
   "source": [
    "x_dim2 = pd.read_csv(path+'x_dim.csv', index_col='Country')"
   ]
  },
  {
   "cell_type": "code",
   "execution_count": null,
   "metadata": {},
   "outputs": [],
   "source": [
    "x_dim.iloc[:2,:5]"
   ]
  },
  {
   "cell_type": "code",
   "execution_count": null,
   "metadata": {},
   "outputs": [],
   "source": [
    "x_dim2.iloc[:2,:5]"
   ]
  },
  {
   "cell_type": "code",
   "execution_count": null,
   "metadata": {},
   "outputs": [],
   "source": [
    "y_dim.to_csv(path+'y_dim.csv', index=True)\n",
    "y_dim2 = pd.read_csv(path+'y_dim.csv', index_col='Country')"
   ]
  },
  {
   "cell_type": "code",
   "execution_count": null,
   "metadata": {},
   "outputs": [],
   "source": [
    "y_dim.iloc[:2,:5]"
   ]
  },
  {
   "cell_type": "code",
   "execution_count": null,
   "metadata": {},
   "outputs": [],
   "source": [
    "y_dim2.iloc[:2,:5]"
   ]
  },
  {
   "cell_type": "code",
   "execution_count": null,
   "metadata": {},
   "outputs": [],
   "source": []
  },
  {
   "cell_type": "code",
   "execution_count": null,
   "metadata": {},
   "outputs": [],
   "source": [
    "regions_df.to_csv(path+'regions_df.csv', index=True)\n",
    "    regions_df2 = pd.read_csv(path+'regions_df.csv', index_col='Countries')"
   ]
  },
  {
   "cell_type": "code",
   "execution_count": null,
   "metadata": {},
   "outputs": [],
   "source": [
    "regions_df.iloc[:2,:5]"
   ]
  },
  {
   "cell_type": "code",
   "execution_count": null,
   "metadata": {},
   "outputs": [],
   "source": [
    "regions_df2.iloc[:2,:5]"
   ]
  },
  {
   "cell_type": "code",
   "execution_count": null,
   "metadata": {},
   "outputs": [],
   "source": []
  },
  {
   "cell_type": "code",
   "execution_count": null,
   "metadata": {},
   "outputs": [],
   "source": [
    "indicator_by_code = {'x_dim': {'gdp_pc':'NY.GDP.PCAP.PP.KD'},\n",
    "                     'y_dim': {'unemployment':'UNEMPSA_'},\n",
    "                     'bubble_dim': {'tech_exp':'TX.VAL.TECH.MF.ZS'}\n",
    "                     }"
   ]
  },
  {
   "cell_type": "code",
   "execution_count": null,
   "metadata": {},
   "outputs": [],
   "source": [
    "indicator_by_code['x_dim'].get('gdp_pc')"
   ]
  },
  {
   "cell_type": "code",
   "execution_count": null,
   "metadata": {},
   "outputs": [],
   "source": [
    "indicator_by_code['x_dim'].keys()"
   ]
  },
  {
   "cell_type": "code",
   "execution_count": null,
   "metadata": {},
   "outputs": [],
   "source": [
    "list(indicator_by_code['x_dim'].keys())[0]"
   ]
  },
  {
   "cell_type": "code",
   "execution_count": null,
   "metadata": {},
   "outputs": [],
   "source": [
    "indicator_by_code = {'x_dim': {'name':'gdp_pc','code':'NY.GDP.PCAP.PP.KD'},\n",
    "                     'y_dim': {'name':'unemployment','code':'UNEMPSA_'},\n",
    "                     'bubble_dim': {'name':'tech_exp','code':'TX.VAL.TECH.MF.ZS'}\n",
    "                     }"
   ]
  },
  {
   "cell_type": "code",
   "execution_count": null,
   "metadata": {},
   "outputs": [],
   "source": [
    "indicator_by_code['x_dim'].get('code')"
   ]
  },
  {
   "cell_type": "code",
   "execution_count": null,
   "metadata": {},
   "outputs": [],
   "source": [
    "indicator_by_code['x_dim'].get('name')"
   ]
  },
  {
   "cell_type": "code",
   "execution_count": null,
   "metadata": {},
   "outputs": [],
   "source": []
  },
  {
   "cell_type": "code",
   "execution_count": null,
   "metadata": {},
   "outputs": [],
   "source": [
    "import process_data"
   ]
  },
  {
   "cell_type": "code",
   "execution_count": null,
   "metadata": {},
   "outputs": [],
   "source": [
    "from process_data import indicator_by_code as indicator_by_code2"
   ]
  },
  {
   "cell_type": "code",
   "execution_count": null,
   "metadata": {},
   "outputs": [],
   "source": [
    "process_data.indicator_by_code"
   ]
  },
  {
   "cell_type": "code",
   "execution_count": null,
   "metadata": {},
   "outputs": [],
   "source": [
    "[process_data.indicator_by_code['x_dim'].get('name'),\n",
    "process_data.indicator_by_code['y_dim'].get('name'),\n",
    "process_data.indicator_by_code['bubble_dim'].get('name')]"
   ]
  },
  {
   "cell_type": "code",
   "execution_count": null,
   "metadata": {},
   "outputs": [],
   "source": []
  },
  {
   "cell_type": "code",
   "execution_count": null,
   "metadata": {},
   "outputs": [],
   "source": []
  },
  {
   "cell_type": "code",
   "execution_count": null,
   "metadata": {},
   "outputs": [],
   "source": []
  }
 ],
 "metadata": {
  "kernelspec": {
   "display_name": "Python 3",
   "language": "python",
   "name": "python3"
  },
  "language_info": {
   "codemirror_mode": {
    "name": "ipython",
    "version": 3
   },
   "file_extension": ".py",
   "mimetype": "text/x-python",
   "name": "python",
   "nbconvert_exporter": "python",
   "pygments_lexer": "ipython3",
   "version": "3.6.5"
  }
 },
 "nbformat": 4,
 "nbformat_minor": 2
}
