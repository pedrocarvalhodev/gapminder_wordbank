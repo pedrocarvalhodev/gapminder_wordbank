{
 "cells": [
  {
   "cell_type": "code",
   "execution_count": 1,
   "metadata": {},
   "outputs": [],
   "source": [
    "# -*- coding: utf-8 -*-\n",
    "import pandas as pd\n",
    "\n",
    "from bokeh.core.properties import field\n",
    "from bokeh.io import curdoc\n",
    "from bokeh.layouts import layout\n",
    "from bokeh.models import (ColumnDataSource, \n",
    "                          HoverTool, \n",
    "                          SingleIntervalTicker,\n",
    "                          Slider, Button, Label, \n",
    "                          CategoricalColorMapper)\n",
    "from bokeh.palettes import Spectral6\n",
    "from bokeh.plotting import figure\n",
    "from process_data import process_data"
   ]
  },
  {
   "cell_type": "code",
   "execution_count": 2,
   "metadata": {},
   "outputs": [],
   "source": [
    "#fertility_df, life_expectancy_df, population_df_size, regions_df, years, regions_list = process_data()\n",
    "x_dim, y_dim, bubble_dim, regions_df, years, regions_list, dims = process_data()"
   ]
  },
  {
   "cell_type": "code",
   "execution_count": 3,
   "metadata": {},
   "outputs": [
    {
     "name": "stdout",
     "output_type": "stream",
     "text": [
      "gdp_pc\n",
      "------------------------------------------------------------\n",
      "Year               1990          1991          1992          1993  \\\n",
      "Country                                                             \n",
      "Australia  28658.365890  28185.752900  27969.066117  28815.462980   \n",
      "Austria    31341.902381  32098.491540  32411.802459  32314.970875   \n",
      "Canada     31299.654569  30220.360782  30115.281236  30578.445621   \n",
      "Chile       8991.846477   9538.654631  10437.984886  10956.114555   \n",
      "Finland    28905.570324  27047.839902  26002.079953  25686.510022   \n",
      "\n",
      "Year               1994          1995          1996          1997  \\\n",
      "Country                                                             \n",
      "Australia  29646.419265  30412.078055  31179.307874  32055.385059   \n",
      "Austria    32964.101612  33791.801468  34539.085590  35222.259377   \n",
      "Canada     31646.810257  32226.226937  32394.577869  33425.815129   \n",
      "Chile      11336.784269  12172.258558  12819.897702  13587.506782   \n",
      "Finland    26583.533332  27596.412893  28512.434400  30205.020437   \n",
      "\n",
      "Year               1998          1999      ...               2007  \\\n",
      "Country                                    ...                      \n",
      "Australia  33174.907653  34443.866178      ...       40680.189630   \n",
      "Austria    36443.709261  37666.411617      ...       43939.425288   \n",
      "Canada     34424.052062  35903.154533      ...       41647.387809   \n",
      "Chile      13991.423051  13758.914433      ...       18572.568388   \n",
      "Finland    31760.276804  33094.838430      ...       42467.260996   \n",
      "\n",
      "Year               2008          2009          2010          2011  \\\n",
      "Country                                                             \n",
      "Australia  41331.527973  41266.866384  41464.040070  41894.173052   \n",
      "Austria    44441.788530  42656.854160  43336.197853  44452.732746   \n",
      "Canada     41611.250814  39924.195901  40699.355129  41565.271221   \n",
      "Chile      19031.616430  18547.461534  19442.050315  20437.704526   \n",
      "Finland    42574.641137  38867.799446  39848.134498  40683.527582   \n",
      "\n",
      "Year               2012          2013          2014          2015  \\\n",
      "Country                                                             \n",
      "Australia  42754.456286  43118.086127  43547.197484  43923.258269   \n",
      "Austria    44551.617574  44301.104029  44320.502013  44304.967757   \n",
      "Canada     41794.538918  42339.378875  43079.142525  43149.475837   \n",
      "Chile      21330.239911  21998.307145  22195.274371  22516.607858   \n",
      "Finland    39912.941358  39428.312061  39017.537207  38941.763603   \n",
      "\n",
      "Year               2016  \n",
      "Country                  \n",
      "Australia  44493.480894  \n",
      "Austria    44464.350268  \n",
      "Canada     43238.259605  \n",
      "Chile      22614.393667  \n",
      "Finland    39659.166039  \n",
      "\n",
      "[5 rows x 27 columns] (16, 27)\n",
      "//////////////////////////////////////////////////\n",
      "unemployment_rate\n",
      "------------------------------------------------------------\n",
      "Year            1990       1991       1992       1993       1994       1995  \\\n",
      "Country                                                                       \n",
      "Australia   6.943297   9.614137  10.750079  10.866174   9.705695   8.471058   \n",
      "Austria     5.373002   5.823096   5.941711   6.811381   6.545480   6.589767   \n",
      "Canada      8.150000  10.316667  11.216667  11.375000  10.391667   9.466667   \n",
      "Chile      10.872020  12.825144  12.509020   6.501549   7.797124   7.379939   \n",
      "Finland     3.103129   6.666424  11.796828  16.384207  16.534420  15.426476   \n",
      "\n",
      "Year            1996       1997       1998       1999    ...         2007  \\\n",
      "Country                                                  ...                \n",
      "Australia   8.516425   8.363718   7.651377   6.869885    ...     4.369382   \n",
      "Austria     7.033851   7.103283   7.184796   6.645249    ...     6.212382   \n",
      "Canada      9.608333   9.091667   8.291667   7.566667    ...     6.033333   \n",
      "Chile       6.508231   6.097341   6.210401   9.953790    ...     7.031881   \n",
      "Finland    14.587385  12.630800  11.354793  10.196691    ...     6.859525   \n",
      "\n",
      "Year           2008       2009      2010      2011      2012      2013  \\\n",
      "Country                                                                  \n",
      "Australia  4.245421   5.564433  5.182573  5.084522  5.223111  5.661278   \n",
      "Austria    5.900164   7.277320  6.924754  6.724761  6.981032  7.615835   \n",
      "Canada     6.158333   8.358333  8.000000  7.500000  7.325000  7.100000   \n",
      "Chile      7.761836  10.514530  8.357478  7.205670  6.476527  5.971670   \n",
      "Finland    6.355991   8.267527  8.369934  7.758082  7.696012  8.182359   \n",
      "\n",
      "Year           2014      2015      2016  \n",
      "Country                                  \n",
      "Australia  6.076738  6.061909  5.723415  \n",
      "Austria    8.367322  9.105266  9.064424  \n",
      "Canada     6.925000  6.900000  7.000000  \n",
      "Chile      6.318857  6.266697  6.452136  \n",
      "Finland    8.665911  9.378339  8.779472  \n",
      "\n",
      "[5 rows x 27 columns] (16, 27)\n",
      "//////////////////////////////////////////////////\n",
      "tech_export\n",
      "------------------------------------------------------------\n",
      "Year            1990       1991       1992       1993       1994       1995  \\\n",
      "Country                                                                       \n",
      "Australia   8.069529   9.777941  10.434847  11.480805  14.080455  12.855121   \n",
      "Austria     7.872959   8.601145   8.418168   8.779092  10.095226   8.845950   \n",
      "Canada     13.755936  15.914733  14.896298  13.936981  13.812231  14.985929   \n",
      "Chile       4.682247   1.991528   2.366165   2.379427   2.147470   3.339690   \n",
      "Finland     7.549498   7.211202   9.140809  11.149180  13.109506  14.696769   \n",
      "\n",
      "Year            1996       1997       1998       1999    ...           2007  \\\n",
      "Country                                                  ...                  \n",
      "Australia  12.070114  11.729679  11.461502  11.090832    ...      10.257214   \n",
      "Austria     8.873685  10.899537  10.956340  12.269665    ...      11.309811   \n",
      "Canada     15.829172  15.549433  15.559522  14.951381    ...      12.752219   \n",
      "Chile       3.660490   3.327845   3.672550   3.239020    ...       7.380776   \n",
      "Finland    16.335305  19.218676  21.996195  23.797543    ...      17.978388   \n",
      "\n",
      "Year            2008       2009       2010       2011       2012       2013  \\\n",
      "Country                                                                       \n",
      "Australia  10.788367  11.925758  11.866824  13.067097  12.729586  12.909995   \n",
      "Austria    10.996156  11.636169  11.905575  11.669180  12.836683  13.715551   \n",
      "Canada     13.600453  16.257673  14.046581  13.425821  13.783504  14.011853   \n",
      "Chile       6.544102   5.633594   5.729668   4.908681   4.861613   6.036239   \n",
      "Finland    17.208227  13.958421  10.940575   9.272149   8.545671   7.214472   \n",
      "\n",
      "Year            2014       2015       2016  \n",
      "Country                                     \n",
      "Australia  13.598728  13.513064  14.781559  \n",
      "Austria    13.880561  13.352968  17.574765  \n",
      "Canada     13.560940  13.838817  12.934714  \n",
      "Chile       6.348578   6.095976   6.948893  \n",
      "Finland     7.861401   8.727075   8.441461  \n",
      "\n",
      "[5 rows x 27 columns] (16, 27)\n",
      "//////////////////////////////////////////////////\n"
     ]
    }
   ],
   "source": [
    "print(dims[0])\n",
    "print(\"-\"*60)\n",
    "print(x_dim.head(), x_dim.shape)\n",
    "print(\"/\"*50)\n",
    "print(dims[1])\n",
    "print(\"-\"*60)\n",
    "print(y_dim.head(), y_dim.shape)\n",
    "print(\"/\"*50)\n",
    "print(dims[2])\n",
    "print(\"-\"*60)\n",
    "print(bubble_dim.head(), bubble_dim.shape)\n",
    "print(\"/\"*50)"
   ]
  },
  {
   "cell_type": "code",
   "execution_count": 4,
   "metadata": {},
   "outputs": [
    {
     "name": "stderr",
     "output_type": "stream",
     "text": [
      "/usr/local/lib/python3.6/dist-packages/IPython/core/interactiveshell.py:2963: FutureWarning: \n",
      "Panel is deprecated and will be removed in a future version.\n",
      "The recommended way to represent these types of 3-dimensional data are with a MultiIndex on a DataFrame, via the Panel.to_frame() method\n",
      "Alternatively, you can use the xarray package http://xarray.pydata.org/en/stable/.\n",
      "Pandas provides a `.to_xarray()` method to help automate this conversion.\n",
      "\n",
      "  exec(code_obj, self.user_global_ns, self.user_ns)\n"
     ]
    }
   ],
   "source": [
    "p = pd.Panel({dims[0]: x_dim, dims[1]: x_dim, dims[2]: bubble_dim})"
   ]
  },
  {
   "cell_type": "code",
   "execution_count": 8,
   "metadata": {},
   "outputs": [
    {
     "data": {
      "text/plain": [
       "Index(['Australia', 'Austria', 'Canada', 'Chile', 'Finland', 'France',\n",
       "       'Ireland', 'Japan', 'Netherlands', 'New Zealand', 'Norway', 'Spain',\n",
       "       'Sweden', 'Switzerland', 'United Kingdom', 'United States'],\n",
       "      dtype='object', name='Country')"
      ]
     },
     "execution_count": 8,
     "metadata": {},
     "output_type": "execute_result"
    }
   ],
   "source": [
    "x_dim.index"
   ]
  },
  {
   "cell_type": "code",
   "execution_count": null,
   "metadata": {},
   "outputs": [],
   "source": []
  },
  {
   "cell_type": "code",
   "execution_count": null,
   "metadata": {},
   "outputs": [],
   "source": []
  },
  {
   "cell_type": "code",
   "execution_count": 13,
   "metadata": {},
   "outputs": [
    {
     "data": {
      "text/plain": [
       "'Group'"
      ]
     },
     "execution_count": 13,
     "metadata": {},
     "output_type": "execute_result"
    }
   ],
   "source": [
    "regions_df[regions_df.index.isin(list(x_dim.index))].Group.name"
   ]
  },
  {
   "cell_type": "code",
   "execution_count": 14,
   "metadata": {},
   "outputs": [],
   "source": [
    "data = {}"
   ]
  },
  {
   "cell_type": "code",
   "execution_count": 15,
   "metadata": {},
   "outputs": [],
   "source": [
    "region_name = regions_df[regions_df.index.isin(list(x_dim.index))].Group\n",
    "region_name.name = 'region'"
   ]
  },
  {
   "cell_type": "code",
   "execution_count": 16,
   "metadata": {},
   "outputs": [
    {
     "name": "stderr",
     "output_type": "stream",
     "text": [
      "/usr/local/lib/python3.6/dist-packages/ipykernel_launcher.py:2: FutureWarning: Sorting because non-concatenation axis is not aligned. A future version\n",
      "of pandas will change to not sort by default.\n",
      "\n",
      "To accept the future behavior, pass 'sort=True'.\n",
      "\n",
      "To retain the current behavior and silence the warning, pass sort=False\n",
      "\n",
      "  \n"
     ]
    }
   ],
   "source": [
    "for year in years:\n",
    "    df = pd.concat([p.loc[:, :, year], region_name], axis=1).reset_index()\n",
    "    data[year] = df.to_dict('series')"
   ]
  },
  {
   "cell_type": "code",
   "execution_count": null,
   "metadata": {},
   "outputs": [],
   "source": []
  },
  {
   "cell_type": "code",
   "execution_count": 31,
   "metadata": {},
   "outputs": [],
   "source": []
  },
  {
   "cell_type": "code",
   "execution_count": 17,
   "metadata": {},
   "outputs": [
    {
     "name": "stdout",
     "output_type": "stream",
     "text": [
      "saved\n"
     ]
    },
    {
     "name": "stderr",
     "output_type": "stream",
     "text": [
      "/usr/local/lib/python3.6/dist-packages/bokeh/models/mappers.py:82: UserWarning: Palette length does not match number of factors. ['East Asia & Pacific', 'North America'] will be assigned to `nan_color` gray\n",
      "  warnings.warn(\"Palette length does not match number of factors. %s will be assigned to `nan_color` %s\" % (extra_factors, self.nan_color))\n"
     ]
    }
   ],
   "source": [
    "print('saved')\n",
    "source = ColumnDataSource(data=data[years[0]])\n",
    "# Palette length does not match number of factors. ['East Asia & Pacific', 'North America'] will be assigned to `nan_color` gray\n",
    "# warnings.warn(\"Palette length does not match number of factors. %s will be assigned to `nan_color` %s\" % (extra_factors, self.nan_color))\n",
    "\n",
    "\n",
    "plot = figure(x_range=(245, 136000), y_range=(0.5, 26.5), title='Gapminder Data', plot_height=300)\n",
    "plot.xaxis.ticker = SingleIntervalTicker(interval=15000)\n",
    "plot.xaxis.axis_label = \"GDP Per Capita ($USD)\"\n",
    "plot.yaxis.ticker = SingleIntervalTicker(interval=1)\n",
    "plot.yaxis.axis_label = \"Unemployment Rate\"\n",
    "\n",
    "label = Label(x=1.1, y=18, text=str(years[0]), text_font_size='70pt', text_color='#eeeeee')\n",
    "plot.add_layout(label)\n",
    "\n",
    "color_mapper = CategoricalColorMapper(palette=Spectral6, factors=regions_list)\n",
    "plot.circle(\n",
    "    x='gdp_per_capita',\n",
    "    y='unemployment',\n",
    "    size='tech_export_rate',\n",
    "    source=source,\n",
    "    fill_color={'field': 'region', 'transform': color_mapper},\n",
    "    fill_alpha=0.8,\n",
    "    line_color='#7c7e71',\n",
    "    line_width=0.5,\n",
    "    line_alpha=0.5,\n",
    "    legend=field('region'),\n",
    ")\n",
    "plot.add_tools(HoverTool(tooltips=\"@index\", show_arrow=False, point_policy='follow_mouse'))\n",
    "\n",
    "\n",
    "def animate_update():\n",
    "    year = slider.value + 1\n",
    "    if year > years[-1]:\n",
    "        year = years[0]\n",
    "    slider.value = year\n",
    "\n",
    "\n",
    "def slider_update(attrname, old, new):\n",
    "    year = slider.value\n",
    "    label.text = str(year)\n",
    "    source.data = data[year]\n",
    "\n",
    "slider = Slider(start=years[0], end=years[-1], value=years[0], step=1, title=\"Year\")\n",
    "slider.on_change('value', slider_update)\n",
    "\n",
    "callback_id = None\n",
    "\n",
    "def animate():\n",
    "    global callback_id\n",
    "    if button.label == '► Play':\n",
    "        button.label = '❚❚ Pause'\n",
    "        callback_id = curdoc().add_periodic_callback(animate_update, 200)\n",
    "    else:\n",
    "        button.label = '► Play'\n",
    "        curdoc().remove_periodic_callback(callback_id)\n",
    "\n",
    "button = Button(label='► Play', width=60)\n",
    "button.on_click(animate)\n",
    "\n",
    "layout = layout([\n",
    "    [plot],\n",
    "    [slider, button],\n",
    "], sizing_mode='scale_width')\n",
    "\n",
    "curdoc().add_root(layout)\n",
    "curdoc().title = \"Gapminder\""
   ]
  },
  {
   "cell_type": "code",
   "execution_count": 3,
   "metadata": {},
   "outputs": [],
   "source": []
  },
  {
   "cell_type": "code",
   "execution_count": null,
   "metadata": {},
   "outputs": [],
   "source": []
  }
 ],
 "metadata": {
  "kernelspec": {
   "display_name": "Python 3",
   "language": "python",
   "name": "python3"
  },
  "language_info": {
   "codemirror_mode": {
    "name": "ipython",
    "version": 3
   },
   "file_extension": ".py",
   "mimetype": "text/x-python",
   "name": "python",
   "nbconvert_exporter": "python",
   "pygments_lexer": "ipython3",
   "version": "3.6.5"
  }
 },
 "nbformat": 4,
 "nbformat_minor": 2
}
