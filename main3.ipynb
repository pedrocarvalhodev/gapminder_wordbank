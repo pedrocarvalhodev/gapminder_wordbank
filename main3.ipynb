{
 "cells": [
  {
   "cell_type": "code",
   "execution_count": 68,
   "metadata": {},
   "outputs": [
    {
     "name": "stdout",
     "output_type": "stream",
     "text": [
      "Loaded Data.\n",
      "['East Asia & Pacific', 'Europe & Central Asia', 'North America', 'Latin America & Caribbean ']\n",
      "saved\n"
     ]
    },
    {
     "name": "stderr",
     "output_type": "stream",
     "text": [
      "/usr/local/lib/python3.6/dist-packages/IPython/core/interactiveshell.py:2963: FutureWarning: \n",
      "Panel is deprecated and will be removed in a future version.\n",
      "The recommended way to represent these types of 3-dimensional data are with a MultiIndex on a DataFrame, via the Panel.to_frame() method\n",
      "Alternatively, you can use the xarray package http://xarray.pydata.org/en/stable/.\n",
      "Pandas provides a `.to_xarray()` method to help automate this conversion.\n",
      "\n",
      "  exec(code_obj, self.user_global_ns, self.user_ns)\n",
      "/usr/local/lib/python3.6/dist-packages/ipykernel_launcher.py:31: FutureWarning: Sorting because non-concatenation axis is not aligned. A future version\n",
      "of pandas will change to not sort by default.\n",
      "\n",
      "To accept the future behavior, pass 'sort=True'.\n",
      "\n",
      "To retain the current behavior and silence the warning, pass sort=False\n",
      "\n"
     ]
    }
   ],
   "source": [
    "# -*- coding: utf-8 -*-\n",
    "import pandas as pd\n",
    "\n",
    "from bokeh.core.properties import field\n",
    "from bokeh.io import curdoc\n",
    "from bokeh.layouts import layout\n",
    "from bokeh.models import (ColumnDataSource, \n",
    "                          HoverTool, \n",
    "                          SingleIntervalTicker,\n",
    "                          Slider, Button, Label, \n",
    "                          CategoricalColorMapper)\n",
    "from bokeh.palettes import Spectral6\n",
    "from bokeh.plotting import figure\n",
    "from process_data import process_data\n",
    "\n",
    "\n",
    "#fertility_df, life_expectancy_df, population_df_size, regions_df, years, regions_list = process_data()\n",
    "x_dim, y_dim, bubble_dim, regions_df, years, regions_list, dims = process_data()\n",
    "print(\"Loaded Data.\")\n",
    "list(regions_df[regions_df.index.isin(list(x_dim.index))].Group.unique())\n",
    "p = pd.Panel({dims[0]: (x_dim / 1000).astype(int), \n",
    "              dims[1]: y_dim.astype(int), \n",
    "              dims[2]: bubble_dim.astype(int)})\n",
    "\n",
    "data = {}\n",
    "region_name = regions_df[regions_df.index.isin(list(x_dim.index))].Group\n",
    "region_name.name = 'region'\n",
    "regions_list=list(region_name.unique())\n",
    "print(regions_list)\n",
    "for year in years:\n",
    "    df = pd.concat([p.loc[:, :, year], region_name], axis=1).reset_index()\n",
    "    data[year] = df.to_dict('series')\n",
    "\n",
    "print('saved')"
   ]
  },
  {
   "cell_type": "code",
   "execution_count": null,
   "metadata": {},
   "outputs": [],
   "source": []
  },
  {
   "cell_type": "code",
   "execution_count": 69,
   "metadata": {},
   "outputs": [
    {
     "data": {
      "text/plain": [
       "dict_keys([1990, 1991, 1992, 1993, 1994, 1995, 1996, 1997, 1998, 1999, 2000, 2001, 2002, 2003, 2004, 2005, 2006, 2007, 2008, 2009, 2010, 2011, 2012, 2013, 2014, 2015, 2016])"
      ]
     },
     "execution_count": 69,
     "metadata": {},
     "output_type": "execute_result"
    }
   ],
   "source": [
    "data.keys()"
   ]
  },
  {
   "cell_type": "code",
   "execution_count": 70,
   "metadata": {},
   "outputs": [
    {
     "data": {
      "text/plain": [
       "0     28\n",
       "1     32\n",
       "2     30\n",
       "3      9\n",
       "4     27\n",
       "5     29\n",
       "6     21\n",
       "7     31\n",
       "8     32\n",
       "9     22\n",
       "10    43\n",
       "11    24\n",
       "12    30\n",
       "13    47\n",
       "14    26\n",
       "15    36\n",
       "Name: gdp_pc, dtype: int64"
      ]
     },
     "execution_count": 70,
     "metadata": {},
     "output_type": "execute_result"
    }
   ],
   "source": [
    "data[1991].get(\"gdp_pc\")"
   ]
  },
  {
   "cell_type": "code",
   "execution_count": 71,
   "metadata": {},
   "outputs": [
    {
     "data": {
      "text/plain": [
       "0      9\n",
       "1      8\n",
       "2     15\n",
       "3      1\n",
       "4      7\n",
       "5     18\n",
       "6     38\n",
       "7     24\n",
       "8     17\n",
       "9      4\n",
       "10    10\n",
       "11     7\n",
       "12    13\n",
       "13    15\n",
       "14    24\n",
       "15    32\n",
       "Name: tech_export, dtype: int64"
      ]
     },
     "execution_count": 71,
     "metadata": {},
     "output_type": "execute_result"
    }
   ],
   "source": [
    "data[1991].get(\"tech_export\")"
   ]
  },
  {
   "cell_type": "code",
   "execution_count": 72,
   "metadata": {},
   "outputs": [
    {
     "data": {
      "text/plain": [
       "['gdp_pc', 'unemployment_rate', 'tech_export']"
      ]
     },
     "execution_count": 72,
     "metadata": {},
     "output_type": "execute_result"
    }
   ],
   "source": [
    "dims"
   ]
  },
  {
   "cell_type": "code",
   "execution_count": 74,
   "metadata": {},
   "outputs": [
    {
     "name": "stdout",
     "output_type": "stream",
     "text": [
      "0      9\n",
      "1      5\n",
      "2     10\n",
      "3     12\n",
      "4      6\n",
      "5      7\n",
      "6     14\n",
      "7      2\n",
      "8      8\n",
      "9     10\n",
      "10     6\n",
      "11    15\n",
      "12     4\n",
      "13     1\n",
      "14     8\n",
      "15     6\n",
      "Name: unemployment_rate, dtype: int64\n"
     ]
    }
   ],
   "source": [
    "print(data[1991].get(\"unemployment_rate\"))"
   ]
  },
  {
   "cell_type": "code",
   "execution_count": 75,
   "metadata": {},
   "outputs": [
    {
     "name": "stdout",
     "output_type": "stream",
     "text": [
      "65.0832586976308\n",
      "8.99184647717044\n"
     ]
    }
   ],
   "source": [
    "print(x_dim.max().max() / 1000)\n",
    "print(x_dim.min().min() / 1000)"
   ]
  },
  {
   "cell_type": "code",
   "execution_count": 76,
   "metadata": {},
   "outputs": [
    {
     "name": "stdout",
     "output_type": "stream",
     "text": [
      "26\n",
      "0\n"
     ]
    }
   ],
   "source": [
    "print(y_dim.max().max().astype(int))\n",
    "print(y_dim.min().min().astype(int))"
   ]
  },
  {
   "cell_type": "code",
   "execution_count": 77,
   "metadata": {},
   "outputs": [
    {
     "name": "stdout",
     "output_type": "stream",
     "text": [
      "1.\n",
      "2.\n",
      "3.\n",
      "4.\n",
      "['East Asia & Pacific', 'Europe & Central Asia', 'North America', 'Latin America & Caribbean ']\n",
      "['#3288bd', '#99d594', '#e6f598', '#fee08b', '#fc8d59', '#d53e4f']\n",
      "5.\n",
      "6.\n"
     ]
    }
   ],
   "source": [
    "print(\"1.\")\n",
    "source = ColumnDataSource(data=data[years[0]])\n",
    "print(\"2.\")\n",
    "plot = figure(x_range=(7, 68), y_range=(0.0, 28), title='Gapminder Data', plot_height=300)\n",
    "plot.xaxis.ticker = SingleIntervalTicker(interval=15000)\n",
    "plot.xaxis.axis_label = \"GDP Per Capita ($USD)\"\n",
    "plot.yaxis.ticker = SingleIntervalTicker(interval=1)\n",
    "plot.yaxis.axis_label = \"Unemployment Rate\"\n",
    "print(\"3.\")\n",
    "label = Label(x=1.1, y=18, text=str(years[0]), text_font_size='70pt', text_color='#eeeeee')\n",
    "plot.add_layout(label)\n",
    "print(\"4.\")\n",
    "print(regions_list)\n",
    "print(Spectral6)\n",
    "color_mapper = CategoricalColorMapper(palette=Spectral6, factors=regions_list)\n",
    "\n",
    "print(\"5.\")\n",
    "plot.circle(\n",
    "    x='gdp_pc',\n",
    "    y='unemployment_rate',\n",
    "    size='tech_export',\n",
    "    source=source,\n",
    "    fill_color={'field': 'region', 'transform': color_mapper},\n",
    "    fill_alpha=0.8,\n",
    "    line_color='#7c7e71',\n",
    "    line_width=0.5,\n",
    "    line_alpha=0.5,\n",
    "    legend=field('region'),\n",
    ")\n",
    "plot.add_tools(HoverTool(tooltips=\"@index\", show_arrow=False, point_policy='follow_mouse'))\n",
    "print(\"6.\")\n",
    "\n",
    "def animate_update():\n",
    "    year = slider.value + 1\n",
    "    if year > years[-1]:\n",
    "        year = years[0]\n",
    "    slider.value = year\n",
    "\n",
    "\n",
    "def slider_update(attrname, old, new):\n",
    "    year = slider.value\n",
    "    label.text = str(year)\n",
    "    source.data = data[year]\n",
    "\n",
    "slider = Slider(start=years[0], end=years[-1], value=years[0], step=1, title=\"Year\")\n",
    "slider.on_change('value', slider_update)\n",
    "\n",
    "callback_id = None\n",
    "\n",
    "def animate():\n",
    "    global callback_id\n",
    "    if button.label == '► Play':\n",
    "        button.label = '❚❚ Pause'\n",
    "        callback_id = curdoc().add_periodic_callback(animate_update, 200)\n",
    "    else:\n",
    "        button.label = '► Play'\n",
    "        curdoc().remove_periodic_callback(callback_id)\n",
    "\n",
    "button = Button(label='► Play', width=60)\n",
    "button.on_click(animate)\n",
    "\n",
    "layout = layout([\n",
    "    [plot],\n",
    "    [slider, button],\n",
    "], sizing_mode='scale_width')\n",
    "\n",
    "#print(\"7.\")\n",
    "#curdoc().add_root(layout)\n",
    "#curdoc().title = \"Gapminder\"\n",
    "\n",
    "#print(\"8.\")"
   ]
  },
  {
   "cell_type": "code",
   "execution_count": 78,
   "metadata": {},
   "outputs": [
    {
     "data": {
      "text/html": [
       "\n",
       "\n",
       "\n",
       "\n",
       "\n",
       "\n",
       "  <div class=\"bk-root\" id=\"46b36134-db37-4516-9b19-e0b8a9b3737e\"></div>\n"
      ]
     },
     "metadata": {},
     "output_type": "display_data"
    },
    {
     "data": {
      "application/javascript": [
       "(function(root) {\n",
       "  function embed_document(root) {\n",
       "    \n",
       "  var docs_json = {\"c9c63b2b-5f5e-4c94-8b1a-f9f2ac82b29b\":{\"roots\":{\"references\":[{\"attributes\":{\"callback\":null,\"end\":68,\"start\":7},\"id\":\"71dbc4aa-0c0e-4590-b283-ec9720167daf\",\"type\":\"Range1d\"},{\"attributes\":{\"axis_label\":\"GDP Per Capita ($USD)\",\"formatter\":{\"id\":\"bfb7fbf5-9f74-48ea-89ab-0e5f77fce830\",\"type\":\"BasicTickFormatter\"},\"plot\":{\"id\":\"c7c39e0a-49da-42ae-a2b9-1a3fcc365aa2\",\"subtype\":\"Figure\",\"type\":\"Plot\"},\"ticker\":{\"id\":\"7aad9c50-b842-4acf-83f5-5acd4241a16e\",\"type\":\"SingleIntervalTicker\"}},\"id\":\"e78ddd98-28ac-46ac-9374-7984ac0b3607\",\"type\":\"LinearAxis\"},{\"attributes\":{},\"id\":\"cae063e1-9b52-4671-bb25-0861f818480e\",\"type\":\"SaveTool\"},{\"attributes\":{\"interval\":1},\"id\":\"23c73ed2-2afa-4b70-9c16-066b15eaff9b\",\"type\":\"SingleIntervalTicker\"},{\"attributes\":{\"plot\":{\"id\":\"c7c39e0a-49da-42ae-a2b9-1a3fcc365aa2\",\"subtype\":\"Figure\",\"type\":\"Plot\"},\"ticker\":{\"id\":\"71955c10-ac91-4cd8-a83d-87b6fb65faef\",\"type\":\"BasicTicker\"}},\"id\":\"ba55a48f-30b3-4cc0-a836-e329bb797fda\",\"type\":\"Grid\"},{\"attributes\":{},\"id\":\"e0785620-dd7c-47d2-b7b1-6ff800933945\",\"type\":\"PanTool\"},{\"attributes\":{},\"id\":\"801bd46a-e61c-483d-9881-8ddf9dec70ad\",\"type\":\"ResetTool\"},{\"attributes\":{},\"id\":\"bfb7fbf5-9f74-48ea-89ab-0e5f77fce830\",\"type\":\"BasicTickFormatter\"},{\"attributes\":{\"below\":[{\"id\":\"e78ddd98-28ac-46ac-9374-7984ac0b3607\",\"type\":\"LinearAxis\"}],\"left\":[{\"id\":\"ffe0f4f2-c4c0-4faa-aa4c-b210cc4eb817\",\"type\":\"LinearAxis\"}],\"plot_height\":300,\"renderers\":[{\"id\":\"e78ddd98-28ac-46ac-9374-7984ac0b3607\",\"type\":\"LinearAxis\"},{\"id\":\"ba55a48f-30b3-4cc0-a836-e329bb797fda\",\"type\":\"Grid\"},{\"id\":\"ffe0f4f2-c4c0-4faa-aa4c-b210cc4eb817\",\"type\":\"LinearAxis\"},{\"id\":\"2045c92c-f649-48ac-b868-da6ff60e5c19\",\"type\":\"Grid\"},{\"id\":\"ebd9b278-1d23-4c9e-a970-4db8a7c18576\",\"type\":\"BoxAnnotation\"},{\"id\":\"7c50550f-b05f-49c5-8a3e-e858ca57ff73\",\"type\":\"Label\"},{\"id\":\"d7d54194-2b81-4a39-80c8-f7919e575e99\",\"type\":\"Legend\"},{\"id\":\"7a7d4d7f-5c96-435e-9f73-ef0bd42014cf\",\"type\":\"GlyphRenderer\"}],\"sizing_mode\":\"scale_width\",\"title\":{\"id\":\"000c2807-5bac-4f0c-9b0c-21f3a9d6ca0f\",\"type\":\"Title\"},\"toolbar\":{\"id\":\"cedaecc1-c315-4e7d-b533-52fb9523befe\",\"type\":\"Toolbar\"},\"x_range\":{\"id\":\"71dbc4aa-0c0e-4590-b283-ec9720167daf\",\"type\":\"Range1d\"},\"x_scale\":{\"id\":\"b79f2613-4f33-4456-b836-30d886af339d\",\"type\":\"LinearScale\"},\"y_range\":{\"id\":\"df96dee7-03c6-43da-895e-778186fd9926\",\"type\":\"Range1d\"},\"y_scale\":{\"id\":\"c02b536e-cff3-4248-a568-b7635f8bb980\",\"type\":\"LinearScale\"}},\"id\":\"c7c39e0a-49da-42ae-a2b9-1a3fcc365aa2\",\"subtype\":\"Figure\",\"type\":\"Plot\"},{\"attributes\":{\"overlay\":{\"id\":\"ebd9b278-1d23-4c9e-a970-4db8a7c18576\",\"type\":\"BoxAnnotation\"}},\"id\":\"8eefaf14-f156-4c51-8957-0f645edb2b17\",\"type\":\"BoxZoomTool\"},{\"attributes\":{},\"id\":\"72a08737-ec8d-4b8e-acdf-46d9ffa4d505\",\"type\":\"Selection\"},{\"attributes\":{\"active_drag\":\"auto\",\"active_inspect\":\"auto\",\"active_multi\":null,\"active_scroll\":\"auto\",\"active_tap\":\"auto\",\"tools\":[{\"id\":\"e0785620-dd7c-47d2-b7b1-6ff800933945\",\"type\":\"PanTool\"},{\"id\":\"4399a62e-81f1-4099-a4cc-effe3e152bf1\",\"type\":\"WheelZoomTool\"},{\"id\":\"8eefaf14-f156-4c51-8957-0f645edb2b17\",\"type\":\"BoxZoomTool\"},{\"id\":\"cae063e1-9b52-4671-bb25-0861f818480e\",\"type\":\"SaveTool\"},{\"id\":\"801bd46a-e61c-483d-9881-8ddf9dec70ad\",\"type\":\"ResetTool\"},{\"id\":\"ba77f908-3266-4b47-a0c2-d47197acf8d2\",\"type\":\"HelpTool\"},{\"id\":\"c438ffc6-2fec-4272-9a12-0bc0077dcc19\",\"type\":\"HoverTool\"}]},\"id\":\"cedaecc1-c315-4e7d-b533-52fb9523befe\",\"type\":\"Toolbar\"},{\"attributes\":{\"fill_alpha\":{\"value\":0.8},\"fill_color\":{\"field\":\"region\",\"transform\":{\"id\":\"f7a141a2-9dc1-4756-be52-2939dd04ce39\",\"type\":\"CategoricalColorMapper\"}},\"line_alpha\":{\"value\":0.5},\"line_color\":{\"value\":\"#7c7e71\"},\"line_width\":{\"value\":0.5},\"size\":{\"field\":\"tech_export\",\"units\":\"screen\"},\"x\":{\"field\":\"gdp_pc\"},\"y\":{\"field\":\"unemployment_rate\"}},\"id\":\"880ab525-1ff2-4849-9e72-229c32eb7231\",\"type\":\"Circle\"},{\"attributes\":{\"items\":[{\"id\":\"3a760767-6e42-4904-bce9-742a10de60fe\",\"type\":\"LegendItem\"}],\"plot\":{\"id\":\"c7c39e0a-49da-42ae-a2b9-1a3fcc365aa2\",\"subtype\":\"Figure\",\"type\":\"Plot\"}},\"id\":\"d7d54194-2b81-4a39-80c8-f7919e575e99\",\"type\":\"Legend\"},{\"attributes\":{},\"id\":\"c02b536e-cff3-4248-a568-b7635f8bb980\",\"type\":\"LinearScale\"},{\"attributes\":{},\"id\":\"4399a62e-81f1-4099-a4cc-effe3e152bf1\",\"type\":\"WheelZoomTool\"},{\"attributes\":{\"plot\":{\"id\":\"c7c39e0a-49da-42ae-a2b9-1a3fcc365aa2\",\"subtype\":\"Figure\",\"type\":\"Plot\"},\"text\":\"1990\",\"text_color\":{\"value\":\"#eeeeee\"},\"text_font_size\":{\"value\":\"70pt\"},\"x\":1.1,\"y\":18},\"id\":\"7c50550f-b05f-49c5-8a3e-e858ca57ff73\",\"type\":\"Label\"},{\"attributes\":{\"callback\":null,\"point_policy\":\"follow_mouse\",\"renderers\":\"auto\",\"show_arrow\":false,\"tooltips\":\"@index\"},\"id\":\"c438ffc6-2fec-4272-9a12-0bc0077dcc19\",\"type\":\"HoverTool\"},{\"attributes\":{\"factors\":[\"East Asia & Pacific\",\"Europe & Central Asia\",\"North America\",\"Latin America & Caribbean \"],\"palette\":[\"#3288bd\",\"#99d594\",\"#e6f598\",\"#fee08b\",\"#fc8d59\",\"#d53e4f\"]},\"id\":\"f7a141a2-9dc1-4756-be52-2939dd04ce39\",\"type\":\"CategoricalColorMapper\"},{\"attributes\":{},\"id\":\"71955c10-ac91-4cd8-a83d-87b6fb65faef\",\"type\":\"BasicTicker\"},{\"attributes\":{\"fill_alpha\":{\"value\":0.1},\"fill_color\":{\"value\":\"#1f77b4\"},\"line_alpha\":{\"value\":0.1},\"line_color\":{\"value\":\"#1f77b4\"},\"line_width\":{\"value\":0.5},\"size\":{\"field\":\"tech_export\",\"units\":\"screen\"},\"x\":{\"field\":\"gdp_pc\"},\"y\":{\"field\":\"unemployment_rate\"}},\"id\":\"a89f3c89-22bd-4cfa-bd85-7d4831b1c5a8\",\"type\":\"Circle\"},{\"attributes\":{\"interval\":15000},\"id\":\"7aad9c50-b842-4acf-83f5-5acd4241a16e\",\"type\":\"SingleIntervalTicker\"},{\"attributes\":{\"label\":{\"field\":\"region\"},\"renderers\":[{\"id\":\"7a7d4d7f-5c96-435e-9f73-ef0bd42014cf\",\"type\":\"GlyphRenderer\"}]},\"id\":\"3a760767-6e42-4904-bce9-742a10de60fe\",\"type\":\"LegendItem\"},{\"attributes\":{},\"id\":\"b79f2613-4f33-4456-b836-30d886af339d\",\"type\":\"LinearScale\"},{\"attributes\":{\"plot\":null,\"text\":\"Gapminder Data\"},\"id\":\"000c2807-5bac-4f0c-9b0c-21f3a9d6ca0f\",\"type\":\"Title\"},{\"attributes\":{\"callback\":null,\"end\":28},\"id\":\"df96dee7-03c6-43da-895e-778186fd9926\",\"type\":\"Range1d\"},{\"attributes\":{\"axis_label\":\"Unemployment Rate\",\"formatter\":{\"id\":\"4e5ab505-063f-4c03-b275-767f48e2dcdc\",\"type\":\"BasicTickFormatter\"},\"plot\":{\"id\":\"c7c39e0a-49da-42ae-a2b9-1a3fcc365aa2\",\"subtype\":\"Figure\",\"type\":\"Plot\"},\"ticker\":{\"id\":\"23c73ed2-2afa-4b70-9c16-066b15eaff9b\",\"type\":\"SingleIntervalTicker\"}},\"id\":\"ffe0f4f2-c4c0-4faa-aa4c-b210cc4eb817\",\"type\":\"LinearAxis\"},{\"attributes\":{\"data_source\":{\"id\":\"d0c563f9-ca6c-4b52-8e0f-d9ede4ad75a8\",\"type\":\"ColumnDataSource\"},\"glyph\":{\"id\":\"880ab525-1ff2-4849-9e72-229c32eb7231\",\"type\":\"Circle\"},\"hover_glyph\":null,\"muted_glyph\":null,\"nonselection_glyph\":{\"id\":\"a89f3c89-22bd-4cfa-bd85-7d4831b1c5a8\",\"type\":\"Circle\"},\"selection_glyph\":null,\"view\":{\"id\":\"782fdecb-f39a-4f1e-a39e-b152154c6b13\",\"type\":\"CDSView\"}},\"id\":\"7a7d4d7f-5c96-435e-9f73-ef0bd42014cf\",\"type\":\"GlyphRenderer\"},{\"attributes\":{\"dimension\":1,\"plot\":{\"id\":\"c7c39e0a-49da-42ae-a2b9-1a3fcc365aa2\",\"subtype\":\"Figure\",\"type\":\"Plot\"},\"ticker\":{\"id\":\"8e558d26-3b89-4118-a052-e3ced8b8fc9e\",\"type\":\"BasicTicker\"}},\"id\":\"2045c92c-f649-48ac-b868-da6ff60e5c19\",\"type\":\"Grid\"},{\"attributes\":{\"bottom_units\":\"screen\",\"fill_alpha\":{\"value\":0.5},\"fill_color\":{\"value\":\"lightgrey\"},\"left_units\":\"screen\",\"level\":\"overlay\",\"line_alpha\":{\"value\":1.0},\"line_color\":{\"value\":\"black\"},\"line_dash\":[4,4],\"line_width\":{\"value\":2},\"plot\":null,\"render_mode\":\"css\",\"right_units\":\"screen\",\"top_units\":\"screen\"},\"id\":\"ebd9b278-1d23-4c9e-a970-4db8a7c18576\",\"type\":\"BoxAnnotation\"},{\"attributes\":{},\"id\":\"8e558d26-3b89-4118-a052-e3ced8b8fc9e\",\"type\":\"BasicTicker\"},{\"attributes\":{\"callback\":null,\"data\":{\"gdp_pc\":[28,31,31,8,28,29,21,30,32,23,42,23,30,48,26,37],\"index\":[\"Australia\",\"Austria\",\"Canada\",\"Chile\",\"Finland\",\"France\",\"Ireland\",\"Japan\",\"Netherlands\",\"New Zealand\",\"Norway\",\"Spain\",\"Sweden\",\"Switzerland\",\"United Kingdom\",\"United States\"],\"region\":[\"East Asia & Pacific\",\"Europe & Central Asia\",\"North America\",\"Latin America & Caribbean \",\"Europe & Central Asia\",\"Europe & Central Asia\",\"Europe & Central Asia\",\"East Asia & Pacific\",\"Europe & Central Asia\",\"East Asia & Pacific\",\"Europe & Central Asia\",\"Europe & Central Asia\",\"Europe & Central Asia\",\"Europe & Central Asia\",\"Europe & Central Asia\",\"North America\"],\"tech_export\":[8,7,13,4,7,16,41,24,16,4,11,6,12,15,23,32],\"unemployment_rate\":[6,5,8,10,3,7,13,2,7,7,5,15,2,0,7,5]},\"selected\":{\"id\":\"72a08737-ec8d-4b8e-acdf-46d9ffa4d505\",\"type\":\"Selection\"},\"selection_policy\":{\"id\":\"f2d14bc1-dc2d-454a-adda-f28e7af250cb\",\"type\":\"UnionRenderers\"}},\"id\":\"d0c563f9-ca6c-4b52-8e0f-d9ede4ad75a8\",\"type\":\"ColumnDataSource\"},{\"attributes\":{\"source\":{\"id\":\"d0c563f9-ca6c-4b52-8e0f-d9ede4ad75a8\",\"type\":\"ColumnDataSource\"}},\"id\":\"782fdecb-f39a-4f1e-a39e-b152154c6b13\",\"type\":\"CDSView\"},{\"attributes\":{},\"id\":\"f2d14bc1-dc2d-454a-adda-f28e7af250cb\",\"type\":\"UnionRenderers\"},{\"attributes\":{},\"id\":\"4e5ab505-063f-4c03-b275-767f48e2dcdc\",\"type\":\"BasicTickFormatter\"},{\"attributes\":{},\"id\":\"ba77f908-3266-4b47-a0c2-d47197acf8d2\",\"type\":\"HelpTool\"}],\"root_ids\":[\"c7c39e0a-49da-42ae-a2b9-1a3fcc365aa2\"]},\"title\":\"Bokeh Application\",\"version\":\"0.13.0\"}};\n",
       "  var render_items = [{\"docid\":\"c9c63b2b-5f5e-4c94-8b1a-f9f2ac82b29b\",\"roots\":{\"c7c39e0a-49da-42ae-a2b9-1a3fcc365aa2\":\"46b36134-db37-4516-9b19-e0b8a9b3737e\"}}];\n",
       "  root.Bokeh.embed.embed_items_notebook(docs_json, render_items);\n",
       "\n",
       "  }\n",
       "  if (root.Bokeh !== undefined) {\n",
       "    embed_document(root);\n",
       "  } else {\n",
       "    var attempts = 0;\n",
       "    var timer = setInterval(function(root) {\n",
       "      if (root.Bokeh !== undefined) {\n",
       "        embed_document(root);\n",
       "        clearInterval(timer);\n",
       "      }\n",
       "      attempts++;\n",
       "      if (attempts > 100) {\n",
       "        console.log(\"Bokeh: ERROR: Unable to run BokehJS code because BokehJS library is missing\")\n",
       "        clearInterval(timer);\n",
       "      }\n",
       "    }, 10, root)\n",
       "  }\n",
       "})(window);"
      ],
      "application/vnd.bokehjs_exec.v0+json": ""
     },
     "metadata": {
      "application/vnd.bokehjs_exec.v0+json": {
       "id": "c7c39e0a-49da-42ae-a2b9-1a3fcc365aa2"
      }
     },
     "output_type": "display_data"
    }
   ],
   "source": [
    "show(plot)"
   ]
  },
  {
   "cell_type": "code",
   "execution_count": 79,
   "metadata": {},
   "outputs": [
    {
     "name": "stderr",
     "output_type": "stream",
     "text": [
      "WARNING:bokeh.embed.util:\n",
      "You are generating standalone HTML/JS output, but trying to use real Python\n",
      "callbacks (i.e. with on_change or on_event). This combination cannot work.\n",
      "\n",
      "Only JavaScript callbacks may be used with standalone output. For more\n",
      "information on JavaScript callbacks with Bokeh, see:\n",
      "\n",
      "    http://bokeh.pydata.org/en/latest/docs/user_guide/interaction/callbacks.html\n",
      "\n",
      "Alternatively, to use real Python callbacks, a Bokeh server application may\n",
      "be used. For more information on building and running Bokeh applications, see:\n",
      "\n",
      "    http://bokeh.pydata.org/en/latest/docs/user_guide/server.html\n",
      "\n"
     ]
    },
    {
     "data": {
      "text/html": [
       "\n",
       "\n",
       "\n",
       "\n",
       "\n",
       "\n",
       "  <div class=\"bk-root\" id=\"8dbdc0c1-cc00-448f-bd93-4376550a655a\"></div>\n"
      ]
     },
     "metadata": {},
     "output_type": "display_data"
    },
    {
     "data": {
      "application/javascript": [
       "(function(root) {\n",
       "  function embed_document(root) {\n",
       "    \n",
       "  var docs_json = {\"e9d4f3e3-474d-494a-8693-a3fc4909eb6e\":{\"roots\":{\"references\":[{\"attributes\":{\"callback\":null,\"end\":2016,\"sizing_mode\":\"scale_width\",\"start\":1990,\"title\":\"Year\",\"value\":1990},\"id\":\"f9838dc5-a1cb-4a3b-8ea2-761bbc92e8fa\",\"type\":\"Slider\"}],\"root_ids\":[\"f9838dc5-a1cb-4a3b-8ea2-761bbc92e8fa\"]},\"title\":\"Bokeh Application\",\"version\":\"0.13.0\"}};\n",
       "  var render_items = [{\"docid\":\"e9d4f3e3-474d-494a-8693-a3fc4909eb6e\",\"roots\":{\"f9838dc5-a1cb-4a3b-8ea2-761bbc92e8fa\":\"8dbdc0c1-cc00-448f-bd93-4376550a655a\"}}];\n",
       "  root.Bokeh.embed.embed_items_notebook(docs_json, render_items);\n",
       "\n",
       "  }\n",
       "  if (root.Bokeh !== undefined) {\n",
       "    embed_document(root);\n",
       "  } else {\n",
       "    var attempts = 0;\n",
       "    var timer = setInterval(function(root) {\n",
       "      if (root.Bokeh !== undefined) {\n",
       "        embed_document(root);\n",
       "        clearInterval(timer);\n",
       "      }\n",
       "      attempts++;\n",
       "      if (attempts > 100) {\n",
       "        console.log(\"Bokeh: ERROR: Unable to run BokehJS code because BokehJS library is missing\")\n",
       "        clearInterval(timer);\n",
       "      }\n",
       "    }, 10, root)\n",
       "  }\n",
       "})(window);"
      ],
      "application/vnd.bokehjs_exec.v0+json": ""
     },
     "metadata": {
      "application/vnd.bokehjs_exec.v0+json": {
       "id": "f9838dc5-a1cb-4a3b-8ea2-761bbc92e8fa"
      }
     },
     "output_type": "display_data"
    }
   ],
   "source": [
    "show(slider)"
   ]
  },
  {
   "cell_type": "code",
   "execution_count": 80,
   "metadata": {},
   "outputs": [
    {
     "name": "stderr",
     "output_type": "stream",
     "text": [
      "WARNING:bokeh.embed.util:\n",
      "You are generating standalone HTML/JS output, but trying to use real Python\n",
      "callbacks (i.e. with on_change or on_event). This combination cannot work.\n",
      "\n",
      "Only JavaScript callbacks may be used with standalone output. For more\n",
      "information on JavaScript callbacks with Bokeh, see:\n",
      "\n",
      "    http://bokeh.pydata.org/en/latest/docs/user_guide/interaction/callbacks.html\n",
      "\n",
      "Alternatively, to use real Python callbacks, a Bokeh server application may\n",
      "be used. For more information on building and running Bokeh applications, see:\n",
      "\n",
      "    http://bokeh.pydata.org/en/latest/docs/user_guide/server.html\n",
      "\n"
     ]
    },
    {
     "data": {
      "text/html": [
       "\n",
       "\n",
       "\n",
       "\n",
       "\n",
       "\n",
       "  <div class=\"bk-root\" id=\"eb59375f-a2d0-4942-a1ac-72a8ba90ff3e\"></div>\n"
      ]
     },
     "metadata": {},
     "output_type": "display_data"
    },
    {
     "data": {
      "application/javascript": [
       "(function(root) {\n",
       "  function embed_document(root) {\n",
       "    \n",
       "  var docs_json = {\"5b55bbb1-bcf7-4dc5-8389-3de1dd2be5a9\":{\"roots\":{\"references\":[{\"attributes\":{\"callback\":null,\"icon\":null,\"label\":\"\\u25ba Play\",\"sizing_mode\":\"scale_width\",\"width\":60},\"id\":\"eb17b744-9adb-43cf-89bc-f63c4b6571cc\",\"type\":\"Button\"}],\"root_ids\":[\"eb17b744-9adb-43cf-89bc-f63c4b6571cc\"]},\"title\":\"Bokeh Application\",\"version\":\"0.13.0\"}};\n",
       "  var render_items = [{\"docid\":\"5b55bbb1-bcf7-4dc5-8389-3de1dd2be5a9\",\"roots\":{\"eb17b744-9adb-43cf-89bc-f63c4b6571cc\":\"eb59375f-a2d0-4942-a1ac-72a8ba90ff3e\"}}];\n",
       "  root.Bokeh.embed.embed_items_notebook(docs_json, render_items);\n",
       "\n",
       "  }\n",
       "  if (root.Bokeh !== undefined) {\n",
       "    embed_document(root);\n",
       "  } else {\n",
       "    var attempts = 0;\n",
       "    var timer = setInterval(function(root) {\n",
       "      if (root.Bokeh !== undefined) {\n",
       "        embed_document(root);\n",
       "        clearInterval(timer);\n",
       "      }\n",
       "      attempts++;\n",
       "      if (attempts > 100) {\n",
       "        console.log(\"Bokeh: ERROR: Unable to run BokehJS code because BokehJS library is missing\")\n",
       "        clearInterval(timer);\n",
       "      }\n",
       "    }, 10, root)\n",
       "  }\n",
       "})(window);"
      ],
      "application/vnd.bokehjs_exec.v0+json": ""
     },
     "metadata": {
      "application/vnd.bokehjs_exec.v0+json": {
       "id": "eb17b744-9adb-43cf-89bc-f63c4b6571cc"
      }
     },
     "output_type": "display_data"
    }
   ],
   "source": [
    "show(button)"
   ]
  },
  {
   "cell_type": "code",
   "execution_count": 81,
   "metadata": {},
   "outputs": [
    {
     "ename": "TypeError",
     "evalue": "'Column' object is not callable",
     "output_type": "error",
     "traceback": [
      "\u001b[0;31m---------------------------------------------------------------------------\u001b[0m",
      "\u001b[0;31mTypeError\u001b[0m                                 Traceback (most recent call last)",
      "\u001b[0;32m<ipython-input-81-547ee1d34a9a>\u001b[0m in \u001b[0;36m<module>\u001b[0;34m()\u001b[0m\n\u001b[1;32m      3\u001b[0m     [slider, \n\u001b[1;32m      4\u001b[0m      button],], \n\u001b[0;32m----> 5\u001b[0;31m     sizing_mode='stretch_both')\n\u001b[0m",
      "\u001b[0;31mTypeError\u001b[0m: 'Column' object is not callable"
     ]
    }
   ],
   "source": [
    "layout = layout([\n",
    "    [plot],\n",
    "    [slider, \n",
    "     button],], \n",
    "    sizing_mode='stretch_both')"
   ]
  },
  {
   "cell_type": "code",
   "execution_count": 14,
   "metadata": {},
   "outputs": [],
   "source": [
    "#l = layout([\n",
    "#  [bollinger],\n",
    "#  [sliders, plot],\n",
    "#  [p1, p2, p3],\n",
    "#], sizing_mode='stretch_both')"
   ]
  },
  {
   "cell_type": "code",
   "execution_count": 82,
   "metadata": {},
   "outputs": [
    {
     "name": "stderr",
     "output_type": "stream",
     "text": [
      "WARNING:bokeh.embed.util:\n",
      "You are generating standalone HTML/JS output, but trying to use real Python\n",
      "callbacks (i.e. with on_change or on_event). This combination cannot work.\n",
      "\n",
      "Only JavaScript callbacks may be used with standalone output. For more\n",
      "information on JavaScript callbacks with Bokeh, see:\n",
      "\n",
      "    http://bokeh.pydata.org/en/latest/docs/user_guide/interaction/callbacks.html\n",
      "\n",
      "Alternatively, to use real Python callbacks, a Bokeh server application may\n",
      "be used. For more information on building and running Bokeh applications, see:\n",
      "\n",
      "    http://bokeh.pydata.org/en/latest/docs/user_guide/server.html\n",
      "\n"
     ]
    },
    {
     "data": {
      "text/html": [
       "\n",
       "\n",
       "\n",
       "\n",
       "\n",
       "\n",
       "  <div class=\"bk-root\" id=\"c894fcb0-05ea-49c4-a255-375d1854b693\"></div>\n"
      ]
     },
     "metadata": {},
     "output_type": "display_data"
    },
    {
     "data": {
      "application/javascript": [
       "(function(root) {\n",
       "  function embed_document(root) {\n",
       "    \n",
       "  var docs_json = {\"95dec455-9c88-4951-83d2-4f5feb707282\":{\"roots\":{\"references\":[{\"attributes\":{\"callback\":null,\"end\":68,\"start\":7},\"id\":\"71dbc4aa-0c0e-4590-b283-ec9720167daf\",\"type\":\"Range1d\"},{\"attributes\":{\"axis_label\":\"GDP Per Capita ($USD)\",\"formatter\":{\"id\":\"bfb7fbf5-9f74-48ea-89ab-0e5f77fce830\",\"type\":\"BasicTickFormatter\"},\"plot\":{\"id\":\"c7c39e0a-49da-42ae-a2b9-1a3fcc365aa2\",\"subtype\":\"Figure\",\"type\":\"Plot\"},\"ticker\":{\"id\":\"7aad9c50-b842-4acf-83f5-5acd4241a16e\",\"type\":\"SingleIntervalTicker\"}},\"id\":\"e78ddd98-28ac-46ac-9374-7984ac0b3607\",\"type\":\"LinearAxis\"},{\"attributes\":{},\"id\":\"cae063e1-9b52-4671-bb25-0861f818480e\",\"type\":\"SaveTool\"},{\"attributes\":{\"interval\":1},\"id\":\"23c73ed2-2afa-4b70-9c16-066b15eaff9b\",\"type\":\"SingleIntervalTicker\"},{\"attributes\":{\"plot\":{\"id\":\"c7c39e0a-49da-42ae-a2b9-1a3fcc365aa2\",\"subtype\":\"Figure\",\"type\":\"Plot\"},\"ticker\":{\"id\":\"71955c10-ac91-4cd8-a83d-87b6fb65faef\",\"type\":\"BasicTicker\"}},\"id\":\"ba55a48f-30b3-4cc0-a836-e329bb797fda\",\"type\":\"Grid\"},{\"attributes\":{},\"id\":\"e0785620-dd7c-47d2-b7b1-6ff800933945\",\"type\":\"PanTool\"},{\"attributes\":{},\"id\":\"801bd46a-e61c-483d-9881-8ddf9dec70ad\",\"type\":\"ResetTool\"},{\"attributes\":{},\"id\":\"bfb7fbf5-9f74-48ea-89ab-0e5f77fce830\",\"type\":\"BasicTickFormatter\"},{\"attributes\":{\"below\":[{\"id\":\"e78ddd98-28ac-46ac-9374-7984ac0b3607\",\"type\":\"LinearAxis\"}],\"left\":[{\"id\":\"ffe0f4f2-c4c0-4faa-aa4c-b210cc4eb817\",\"type\":\"LinearAxis\"}],\"plot_height\":300,\"renderers\":[{\"id\":\"e78ddd98-28ac-46ac-9374-7984ac0b3607\",\"type\":\"LinearAxis\"},{\"id\":\"ba55a48f-30b3-4cc0-a836-e329bb797fda\",\"type\":\"Grid\"},{\"id\":\"ffe0f4f2-c4c0-4faa-aa4c-b210cc4eb817\",\"type\":\"LinearAxis\"},{\"id\":\"2045c92c-f649-48ac-b868-da6ff60e5c19\",\"type\":\"Grid\"},{\"id\":\"ebd9b278-1d23-4c9e-a970-4db8a7c18576\",\"type\":\"BoxAnnotation\"},{\"id\":\"7c50550f-b05f-49c5-8a3e-e858ca57ff73\",\"type\":\"Label\"},{\"id\":\"d7d54194-2b81-4a39-80c8-f7919e575e99\",\"type\":\"Legend\"},{\"id\":\"7a7d4d7f-5c96-435e-9f73-ef0bd42014cf\",\"type\":\"GlyphRenderer\"}],\"sizing_mode\":\"scale_width\",\"title\":{\"id\":\"000c2807-5bac-4f0c-9b0c-21f3a9d6ca0f\",\"type\":\"Title\"},\"toolbar\":{\"id\":\"cedaecc1-c315-4e7d-b533-52fb9523befe\",\"type\":\"Toolbar\"},\"x_range\":{\"id\":\"71dbc4aa-0c0e-4590-b283-ec9720167daf\",\"type\":\"Range1d\"},\"x_scale\":{\"id\":\"b79f2613-4f33-4456-b836-30d886af339d\",\"type\":\"LinearScale\"},\"y_range\":{\"id\":\"df96dee7-03c6-43da-895e-778186fd9926\",\"type\":\"Range1d\"},\"y_scale\":{\"id\":\"c02b536e-cff3-4248-a568-b7635f8bb980\",\"type\":\"LinearScale\"}},\"id\":\"c7c39e0a-49da-42ae-a2b9-1a3fcc365aa2\",\"subtype\":\"Figure\",\"type\":\"Plot\"},{\"attributes\":{\"overlay\":{\"id\":\"ebd9b278-1d23-4c9e-a970-4db8a7c18576\",\"type\":\"BoxAnnotation\"}},\"id\":\"8eefaf14-f156-4c51-8957-0f645edb2b17\",\"type\":\"BoxZoomTool\"},{\"attributes\":{},\"id\":\"72a08737-ec8d-4b8e-acdf-46d9ffa4d505\",\"type\":\"Selection\"},{\"attributes\":{\"active_drag\":\"auto\",\"active_inspect\":\"auto\",\"active_multi\":null,\"active_scroll\":\"auto\",\"active_tap\":\"auto\",\"tools\":[{\"id\":\"e0785620-dd7c-47d2-b7b1-6ff800933945\",\"type\":\"PanTool\"},{\"id\":\"4399a62e-81f1-4099-a4cc-effe3e152bf1\",\"type\":\"WheelZoomTool\"},{\"id\":\"8eefaf14-f156-4c51-8957-0f645edb2b17\",\"type\":\"BoxZoomTool\"},{\"id\":\"cae063e1-9b52-4671-bb25-0861f818480e\",\"type\":\"SaveTool\"},{\"id\":\"801bd46a-e61c-483d-9881-8ddf9dec70ad\",\"type\":\"ResetTool\"},{\"id\":\"ba77f908-3266-4b47-a0c2-d47197acf8d2\",\"type\":\"HelpTool\"},{\"id\":\"c438ffc6-2fec-4272-9a12-0bc0077dcc19\",\"type\":\"HoverTool\"}]},\"id\":\"cedaecc1-c315-4e7d-b533-52fb9523befe\",\"type\":\"Toolbar\"},{\"attributes\":{\"fill_alpha\":{\"value\":0.8},\"fill_color\":{\"field\":\"region\",\"transform\":{\"id\":\"f7a141a2-9dc1-4756-be52-2939dd04ce39\",\"type\":\"CategoricalColorMapper\"}},\"line_alpha\":{\"value\":0.5},\"line_color\":{\"value\":\"#7c7e71\"},\"line_width\":{\"value\":0.5},\"size\":{\"field\":\"tech_export\",\"units\":\"screen\"},\"x\":{\"field\":\"gdp_pc\"},\"y\":{\"field\":\"unemployment_rate\"}},\"id\":\"880ab525-1ff2-4849-9e72-229c32eb7231\",\"type\":\"Circle\"},{\"attributes\":{\"children\":[{\"id\":\"f9838dc5-a1cb-4a3b-8ea2-761bbc92e8fa\",\"type\":\"Slider\"}],\"sizing_mode\":\"scale_width\"},\"id\":\"975a277a-0aaf-4baa-9fc6-e0657941c7c1\",\"type\":\"WidgetBox\"},{\"attributes\":{\"items\":[{\"id\":\"3a760767-6e42-4904-bce9-742a10de60fe\",\"type\":\"LegendItem\"}],\"plot\":{\"id\":\"c7c39e0a-49da-42ae-a2b9-1a3fcc365aa2\",\"subtype\":\"Figure\",\"type\":\"Plot\"}},\"id\":\"d7d54194-2b81-4a39-80c8-f7919e575e99\",\"type\":\"Legend\"},{\"attributes\":{},\"id\":\"c02b536e-cff3-4248-a568-b7635f8bb980\",\"type\":\"LinearScale\"},{\"attributes\":{},\"id\":\"4399a62e-81f1-4099-a4cc-effe3e152bf1\",\"type\":\"WheelZoomTool\"},{\"attributes\":{\"plot\":{\"id\":\"c7c39e0a-49da-42ae-a2b9-1a3fcc365aa2\",\"subtype\":\"Figure\",\"type\":\"Plot\"},\"text\":\"1990\",\"text_color\":{\"value\":\"#eeeeee\"},\"text_font_size\":{\"value\":\"70pt\"},\"x\":1.1,\"y\":18},\"id\":\"7c50550f-b05f-49c5-8a3e-e858ca57ff73\",\"type\":\"Label\"},{\"attributes\":{\"callback\":null,\"point_policy\":\"follow_mouse\",\"renderers\":\"auto\",\"show_arrow\":false,\"tooltips\":\"@index\"},\"id\":\"c438ffc6-2fec-4272-9a12-0bc0077dcc19\",\"type\":\"HoverTool\"},{\"attributes\":{\"factors\":[\"East Asia & Pacific\",\"Europe & Central Asia\",\"North America\",\"Latin America & Caribbean \"],\"palette\":[\"#3288bd\",\"#99d594\",\"#e6f598\",\"#fee08b\",\"#fc8d59\",\"#d53e4f\"]},\"id\":\"f7a141a2-9dc1-4756-be52-2939dd04ce39\",\"type\":\"CategoricalColorMapper\"},{\"attributes\":{},\"id\":\"71955c10-ac91-4cd8-a83d-87b6fb65faef\",\"type\":\"BasicTicker\"},{\"attributes\":{\"children\":[{\"id\":\"eb17b744-9adb-43cf-89bc-f63c4b6571cc\",\"type\":\"Button\"}],\"sizing_mode\":\"scale_width\",\"width\":60},\"id\":\"d02d11c1-7726-42b1-b375-0d23f458cfb5\",\"type\":\"WidgetBox\"},{\"attributes\":{\"interval\":15000},\"id\":\"7aad9c50-b842-4acf-83f5-5acd4241a16e\",\"type\":\"SingleIntervalTicker\"},{\"attributes\":{\"fill_alpha\":{\"value\":0.1},\"fill_color\":{\"value\":\"#1f77b4\"},\"line_alpha\":{\"value\":0.1},\"line_color\":{\"value\":\"#1f77b4\"},\"line_width\":{\"value\":0.5},\"size\":{\"field\":\"tech_export\",\"units\":\"screen\"},\"x\":{\"field\":\"gdp_pc\"},\"y\":{\"field\":\"unemployment_rate\"}},\"id\":\"a89f3c89-22bd-4cfa-bd85-7d4831b1c5a8\",\"type\":\"Circle\"},{\"attributes\":{\"callback\":null,\"end\":2016,\"sizing_mode\":\"scale_width\",\"start\":1990,\"title\":\"Year\",\"value\":1990},\"id\":\"f9838dc5-a1cb-4a3b-8ea2-761bbc92e8fa\",\"type\":\"Slider\"},{\"attributes\":{\"label\":{\"field\":\"region\"},\"renderers\":[{\"id\":\"7a7d4d7f-5c96-435e-9f73-ef0bd42014cf\",\"type\":\"GlyphRenderer\"}]},\"id\":\"3a760767-6e42-4904-bce9-742a10de60fe\",\"type\":\"LegendItem\"},{\"attributes\":{\"children\":[{\"id\":\"c7c39e0a-49da-42ae-a2b9-1a3fcc365aa2\",\"subtype\":\"Figure\",\"type\":\"Plot\"}],\"sizing_mode\":\"scale_width\"},\"id\":\"dfe36c6b-368c-419d-b6ba-0832501b744d\",\"type\":\"Row\"},{\"attributes\":{},\"id\":\"b79f2613-4f33-4456-b836-30d886af339d\",\"type\":\"LinearScale\"},{\"attributes\":{\"plot\":null,\"text\":\"Gapminder Data\"},\"id\":\"000c2807-5bac-4f0c-9b0c-21f3a9d6ca0f\",\"type\":\"Title\"},{\"attributes\":{\"callback\":null,\"end\":28},\"id\":\"df96dee7-03c6-43da-895e-778186fd9926\",\"type\":\"Range1d\"},{\"attributes\":{\"callback\":null,\"icon\":null,\"label\":\"\\u25ba Play\",\"sizing_mode\":\"scale_width\",\"width\":60},\"id\":\"eb17b744-9adb-43cf-89bc-f63c4b6571cc\",\"type\":\"Button\"},{\"attributes\":{\"children\":[{\"id\":\"dfe36c6b-368c-419d-b6ba-0832501b744d\",\"type\":\"Row\"},{\"id\":\"964cd323-fd9d-43ba-a444-563f90503a99\",\"type\":\"Row\"}],\"sizing_mode\":\"scale_width\"},\"id\":\"3eb02cfc-e94c-45c5-8da9-88ad777f01f3\",\"type\":\"Column\"},{\"attributes\":{\"axis_label\":\"Unemployment Rate\",\"formatter\":{\"id\":\"4e5ab505-063f-4c03-b275-767f48e2dcdc\",\"type\":\"BasicTickFormatter\"},\"plot\":{\"id\":\"c7c39e0a-49da-42ae-a2b9-1a3fcc365aa2\",\"subtype\":\"Figure\",\"type\":\"Plot\"},\"ticker\":{\"id\":\"23c73ed2-2afa-4b70-9c16-066b15eaff9b\",\"type\":\"SingleIntervalTicker\"}},\"id\":\"ffe0f4f2-c4c0-4faa-aa4c-b210cc4eb817\",\"type\":\"LinearAxis\"},{\"attributes\":{\"data_source\":{\"id\":\"d0c563f9-ca6c-4b52-8e0f-d9ede4ad75a8\",\"type\":\"ColumnDataSource\"},\"glyph\":{\"id\":\"880ab525-1ff2-4849-9e72-229c32eb7231\",\"type\":\"Circle\"},\"hover_glyph\":null,\"muted_glyph\":null,\"nonselection_glyph\":{\"id\":\"a89f3c89-22bd-4cfa-bd85-7d4831b1c5a8\",\"type\":\"Circle\"},\"selection_glyph\":null,\"view\":{\"id\":\"782fdecb-f39a-4f1e-a39e-b152154c6b13\",\"type\":\"CDSView\"}},\"id\":\"7a7d4d7f-5c96-435e-9f73-ef0bd42014cf\",\"type\":\"GlyphRenderer\"},{\"attributes\":{\"dimension\":1,\"plot\":{\"id\":\"c7c39e0a-49da-42ae-a2b9-1a3fcc365aa2\",\"subtype\":\"Figure\",\"type\":\"Plot\"},\"ticker\":{\"id\":\"8e558d26-3b89-4118-a052-e3ced8b8fc9e\",\"type\":\"BasicTicker\"}},\"id\":\"2045c92c-f649-48ac-b868-da6ff60e5c19\",\"type\":\"Grid\"},{\"attributes\":{\"bottom_units\":\"screen\",\"fill_alpha\":{\"value\":0.5},\"fill_color\":{\"value\":\"lightgrey\"},\"left_units\":\"screen\",\"level\":\"overlay\",\"line_alpha\":{\"value\":1.0},\"line_color\":{\"value\":\"black\"},\"line_dash\":[4,4],\"line_width\":{\"value\":2},\"plot\":null,\"render_mode\":\"css\",\"right_units\":\"screen\",\"top_units\":\"screen\"},\"id\":\"ebd9b278-1d23-4c9e-a970-4db8a7c18576\",\"type\":\"BoxAnnotation\"},{\"attributes\":{},\"id\":\"8e558d26-3b89-4118-a052-e3ced8b8fc9e\",\"type\":\"BasicTicker\"},{\"attributes\":{\"callback\":null,\"data\":{\"gdp_pc\":[28,31,31,8,28,29,21,30,32,23,42,23,30,48,26,37],\"index\":[\"Australia\",\"Austria\",\"Canada\",\"Chile\",\"Finland\",\"France\",\"Ireland\",\"Japan\",\"Netherlands\",\"New Zealand\",\"Norway\",\"Spain\",\"Sweden\",\"Switzerland\",\"United Kingdom\",\"United States\"],\"region\":[\"East Asia & Pacific\",\"Europe & Central Asia\",\"North America\",\"Latin America & Caribbean \",\"Europe & Central Asia\",\"Europe & Central Asia\",\"Europe & Central Asia\",\"East Asia & Pacific\",\"Europe & Central Asia\",\"East Asia & Pacific\",\"Europe & Central Asia\",\"Europe & Central Asia\",\"Europe & Central Asia\",\"Europe & Central Asia\",\"Europe & Central Asia\",\"North America\"],\"tech_export\":[8,7,13,4,7,16,41,24,16,4,11,6,12,15,23,32],\"unemployment_rate\":[6,5,8,10,3,7,13,2,7,7,5,15,2,0,7,5]},\"selected\":{\"id\":\"72a08737-ec8d-4b8e-acdf-46d9ffa4d505\",\"type\":\"Selection\"},\"selection_policy\":{\"id\":\"f2d14bc1-dc2d-454a-adda-f28e7af250cb\",\"type\":\"UnionRenderers\"}},\"id\":\"d0c563f9-ca6c-4b52-8e0f-d9ede4ad75a8\",\"type\":\"ColumnDataSource\"},{\"attributes\":{\"source\":{\"id\":\"d0c563f9-ca6c-4b52-8e0f-d9ede4ad75a8\",\"type\":\"ColumnDataSource\"}},\"id\":\"782fdecb-f39a-4f1e-a39e-b152154c6b13\",\"type\":\"CDSView\"},{\"attributes\":{},\"id\":\"f2d14bc1-dc2d-454a-adda-f28e7af250cb\",\"type\":\"UnionRenderers\"},{\"attributes\":{\"children\":[{\"id\":\"975a277a-0aaf-4baa-9fc6-e0657941c7c1\",\"type\":\"WidgetBox\"},{\"id\":\"d02d11c1-7726-42b1-b375-0d23f458cfb5\",\"type\":\"WidgetBox\"}],\"sizing_mode\":\"scale_width\"},\"id\":\"964cd323-fd9d-43ba-a444-563f90503a99\",\"type\":\"Row\"},{\"attributes\":{},\"id\":\"4e5ab505-063f-4c03-b275-767f48e2dcdc\",\"type\":\"BasicTickFormatter\"},{\"attributes\":{},\"id\":\"ba77f908-3266-4b47-a0c2-d47197acf8d2\",\"type\":\"HelpTool\"}],\"root_ids\":[\"3eb02cfc-e94c-45c5-8da9-88ad777f01f3\"]},\"title\":\"Bokeh Application\",\"version\":\"0.13.0\"}};\n",
       "  var render_items = [{\"docid\":\"95dec455-9c88-4951-83d2-4f5feb707282\",\"roots\":{\"3eb02cfc-e94c-45c5-8da9-88ad777f01f3\":\"c894fcb0-05ea-49c4-a255-375d1854b693\"}}];\n",
       "  root.Bokeh.embed.embed_items_notebook(docs_json, render_items);\n",
       "\n",
       "  }\n",
       "  if (root.Bokeh !== undefined) {\n",
       "    embed_document(root);\n",
       "  } else {\n",
       "    var attempts = 0;\n",
       "    var timer = setInterval(function(root) {\n",
       "      if (root.Bokeh !== undefined) {\n",
       "        embed_document(root);\n",
       "        clearInterval(timer);\n",
       "      }\n",
       "      attempts++;\n",
       "      if (attempts > 100) {\n",
       "        console.log(\"Bokeh: ERROR: Unable to run BokehJS code because BokehJS library is missing\")\n",
       "        clearInterval(timer);\n",
       "      }\n",
       "    }, 10, root)\n",
       "  }\n",
       "})(window);"
      ],
      "application/vnd.bokehjs_exec.v0+json": ""
     },
     "metadata": {
      "application/vnd.bokehjs_exec.v0+json": {
       "id": "3eb02cfc-e94c-45c5-8da9-88ad777f01f3"
      }
     },
     "output_type": "display_data"
    }
   ],
   "source": [
    "show(layout)"
   ]
  },
  {
   "cell_type": "code",
   "execution_count": 8,
   "metadata": {},
   "outputs": [
    {
     "name": "stderr",
     "output_type": "stream",
     "text": [
      "ERROR:bokeh.core.validation.check:E-1001 (BAD_COLUMN_NAME): Glyph refers to nonexistent column name: gdp_per_capita, tech_export_rate, unemployment [renderer: GlyphRenderer(id='bdd5a160-8811-46ad-84b2-33e6554cb054', ...)]\n",
      "WARNING:bokeh.embed.util:\n",
      "You are generating standalone HTML/JS output, but trying to use real Python\n",
      "callbacks (i.e. with on_change or on_event). This combination cannot work.\n",
      "\n",
      "Only JavaScript callbacks may be used with standalone output. For more\n",
      "information on JavaScript callbacks with Bokeh, see:\n",
      "\n",
      "    http://bokeh.pydata.org/en/latest/docs/user_guide/interaction/callbacks.html\n",
      "\n",
      "Alternatively, to use real Python callbacks, a Bokeh server application may\n",
      "be used. For more information on building and running Bokeh applications, see:\n",
      "\n",
      "    http://bokeh.pydata.org/en/latest/docs/user_guide/server.html\n",
      "\n"
     ]
    },
    {
     "data": {
      "text/html": [
       "\n",
       "\n",
       "\n",
       "\n",
       "\n",
       "\n",
       "  <div class=\"bk-root\" id=\"4a3ba40c-bb79-4cec-875c-88a1432157be\"></div>\n"
      ]
     },
     "metadata": {},
     "output_type": "display_data"
    },
    {
     "data": {
      "application/javascript": [
       "(function(root) {\n",
       "  function embed_document(root) {\n",
       "    \n",
       "  var docs_json = {\"ec67fe3c-8d06-40a7-a7b0-51efb2e718e9\":{\"roots\":{\"references\":[{\"attributes\":{},\"id\":\"c1ed632e-ae1c-407d-a820-b9c92d7d8f76\",\"type\":\"BasicTicker\"},{\"attributes\":{\"plot\":{\"id\":\"3ccc2427-0032-4583-a38a-ba8262f17ce5\",\"subtype\":\"Figure\",\"type\":\"Plot\"},\"text\":\"1990\",\"text_color\":{\"value\":\"#eeeeee\"},\"text_font_size\":{\"value\":\"70pt\"},\"x\":1.1,\"y\":18},\"id\":\"a76c5e88-8447-44d4-930f-1713f83d27f1\",\"type\":\"Label\"},{\"attributes\":{\"children\":[{\"id\":\"270ef68e-c76c-4f11-9a0b-9b1c6d0b9e37\",\"type\":\"Row\"},{\"id\":\"ccf74386-0430-4df9-aadf-8094300216d2\",\"type\":\"Row\"}],\"sizing_mode\":\"scale_width\"},\"id\":\"2a853ede-292b-4047-87ff-32ba7e9ec388\",\"type\":\"Column\"},{\"attributes\":{\"callback\":null,\"data\":{\"gdp_pc\":{\"__ndarray__\":\"3Um/apf820Ck5pzAeZveQIXwdeTpkN5A7SldWeyPwUAJ9TCAZDrcQD7s1aS20txAsMfIYk/z1EDasddjm93dQCvo04GNVt9APK/1eNEd10A+YpF6uOfkQB9YJ5muM9dAYgiXfmg13kCvKE8vuIbnQMYyqOf1MtpA7CIWK8QY4kA=\",\"dtype\":\"float64\",\"shape\":[16]},\"index\":[\"Australia\",\"Austria\",\"Canada\",\"Chile\",\"Finland\",\"France\",\"Ireland\",\"Japan\",\"Netherlands\",\"New Zealand\",\"Norway\",\"Spain\",\"Sweden\",\"Switzerland\",\"United Kingdom\",\"United States\"],\"region\":[\"East Asia & Pacific\",\"Europe & Central Asia\",\"North America\",\"Latin America & Caribbean \",\"Europe & Central Asia\",\"Europe & Central Asia\",\"Europe & Central Asia\",\"East Asia & Pacific\",\"Europe & Central Asia\",\"East Asia & Pacific\",\"Europe & Central Asia\",\"Europe & Central Asia\",\"Europe & Central Asia\",\"Europe & Central Asia\",\"Europe & Central Asia\",\"North America\"],\"tech_export\":{\"__ndarray__\":\"cCd6QZkjIEC9U2UF6X0fQGob7QQKgytAmH1fCZ+6EkDB57i5rzIeQJmzUeM9rzBAB7R4ZJWRREDJghZTkT04QKSSQgPudTBAnqvKzJW3EUBInhwWIN8mQLbObNvZ3hpAyty8Y+DOKUByxTl1RycvQD+54cL/mzdAXQIy+NVDQEA=\",\"dtype\":\"float64\",\"shape\":[16]},\"unemployment_rate\":{\"__ndarray__\":\"3Um/apf820Ck5pzAeZveQIXwdeTpkN5A7SldWeyPwUAJ9TCAZDrcQD7s1aS20txAsMfIYk/z1EDasddjm93dQCvo04GNVt9APK/1eNEd10A+YpF6uOfkQB9YJ5muM9dAYgiXfmg13kCvKE8vuIbnQMYyqOf1MtpA7CIWK8QY4kA=\",\"dtype\":\"float64\",\"shape\":[16]}},\"selected\":{\"id\":\"cf304691-997b-4bc5-a006-c051e9199607\",\"type\":\"Selection\"},\"selection_policy\":{\"id\":\"1415dc12-ab74-42ba-ae61-0de5b7f624e1\",\"type\":\"UnionRenderers\"}},\"id\":\"9e01fa56-60ba-4fa5-b6d6-c3afabd35b4d\",\"type\":\"ColumnDataSource\"},{\"attributes\":{\"interval\":15000},\"id\":\"81b526bc-2344-4e1c-9dd5-e6ab0a4ed555\",\"type\":\"SingleIntervalTicker\"},{\"attributes\":{},\"id\":\"5e3bc2ea-3e3f-4c26-8065-e388c3383b50\",\"type\":\"SaveTool\"},{\"attributes\":{\"children\":[{\"id\":\"bf457dc2-2755-458d-9ad8-8382cbba65d8\",\"type\":\"Button\"}],\"sizing_mode\":\"scale_width\",\"width\":60},\"id\":\"2b8af4f9-d35b-48e1-aee6-f0e00472a4a9\",\"type\":\"WidgetBox\"},{\"attributes\":{\"plot\":{\"id\":\"3ccc2427-0032-4583-a38a-ba8262f17ce5\",\"subtype\":\"Figure\",\"type\":\"Plot\"},\"ticker\":{\"id\":\"559236bc-4b8f-476b-b3cc-4af7d9b66f03\",\"type\":\"BasicTicker\"}},\"id\":\"d9c94185-bc44-4935-ad30-f69e64b2247a\",\"type\":\"Grid\"},{\"attributes\":{\"label\":{\"field\":\"region\"},\"renderers\":[{\"id\":\"bdd5a160-8811-46ad-84b2-33e6554cb054\",\"type\":\"GlyphRenderer\"}]},\"id\":\"fab22198-fa6f-4434-b525-bcebfbd16936\",\"type\":\"LegendItem\"},{\"attributes\":{\"dimension\":1,\"plot\":{\"id\":\"3ccc2427-0032-4583-a38a-ba8262f17ce5\",\"subtype\":\"Figure\",\"type\":\"Plot\"},\"ticker\":{\"id\":\"c1ed632e-ae1c-407d-a820-b9c92d7d8f76\",\"type\":\"BasicTicker\"}},\"id\":\"66922928-4544-43f7-b172-1c4c2102fe52\",\"type\":\"Grid\"},{\"attributes\":{},\"id\":\"a87dfc62-548c-432b-856e-f059e567d189\",\"type\":\"LinearScale\"},{\"attributes\":{\"data_source\":{\"id\":\"9e01fa56-60ba-4fa5-b6d6-c3afabd35b4d\",\"type\":\"ColumnDataSource\"},\"glyph\":{\"id\":\"9489c72d-fc22-449c-ba05-61bd5611d3e1\",\"type\":\"Circle\"},\"hover_glyph\":null,\"muted_glyph\":null,\"nonselection_glyph\":{\"id\":\"cb16046d-20cd-4ef8-a823-4d87f2b5f09d\",\"type\":\"Circle\"},\"selection_glyph\":null,\"view\":{\"id\":\"88b75d29-a41e-40d2-9f24-33b283ebeeb8\",\"type\":\"CDSView\"}},\"id\":\"bdd5a160-8811-46ad-84b2-33e6554cb054\",\"type\":\"GlyphRenderer\"},{\"attributes\":{\"callback\":null,\"icon\":null,\"label\":\"\\u25ba Play\",\"sizing_mode\":\"scale_width\",\"width\":60},\"id\":\"bf457dc2-2755-458d-9ad8-8382cbba65d8\",\"type\":\"Button\"},{\"attributes\":{\"plot\":null,\"text\":\"Gapminder Data\"},\"id\":\"a46f79bd-303e-4532-9012-f30f9fce0d03\",\"type\":\"Title\"},{\"attributes\":{\"overlay\":{\"id\":\"16996d17-1242-403d-bf7b-b51f0e331626\",\"type\":\"BoxAnnotation\"}},\"id\":\"fb53c7d1-da7a-4c9f-a23b-49f4373e0212\",\"type\":\"BoxZoomTool\"},{\"attributes\":{\"fill_alpha\":{\"value\":0.8},\"fill_color\":{\"field\":\"region\",\"transform\":{\"id\":\"596fd64f-3741-4498-8d96-0ac63805e53b\",\"type\":\"CategoricalColorMapper\"}},\"line_alpha\":{\"value\":0.5},\"line_color\":{\"value\":\"#7c7e71\"},\"line_width\":{\"value\":0.5},\"size\":{\"field\":\"tech_export_rate\",\"units\":\"screen\"},\"x\":{\"field\":\"gdp_per_capita\"},\"y\":{\"field\":\"unemployment\"}},\"id\":\"9489c72d-fc22-449c-ba05-61bd5611d3e1\",\"type\":\"Circle\"},{\"attributes\":{\"callback\":null,\"end\":26.5,\"start\":0.5},\"id\":\"7746c277-f73c-4e4c-a1b1-89e5f93d2cf1\",\"type\":\"Range1d\"},{\"attributes\":{\"below\":[{\"id\":\"0af13c1c-e01a-4614-a602-10dcce2e6350\",\"type\":\"LinearAxis\"}],\"left\":[{\"id\":\"5f97264f-dab8-4da2-badf-c05923fdb04a\",\"type\":\"LinearAxis\"}],\"plot_height\":300,\"renderers\":[{\"id\":\"0af13c1c-e01a-4614-a602-10dcce2e6350\",\"type\":\"LinearAxis\"},{\"id\":\"d9c94185-bc44-4935-ad30-f69e64b2247a\",\"type\":\"Grid\"},{\"id\":\"5f97264f-dab8-4da2-badf-c05923fdb04a\",\"type\":\"LinearAxis\"},{\"id\":\"66922928-4544-43f7-b172-1c4c2102fe52\",\"type\":\"Grid\"},{\"id\":\"16996d17-1242-403d-bf7b-b51f0e331626\",\"type\":\"BoxAnnotation\"},{\"id\":\"a76c5e88-8447-44d4-930f-1713f83d27f1\",\"type\":\"Label\"},{\"id\":\"adffecb5-55f5-42d6-8fce-b4042923ac84\",\"type\":\"Legend\"},{\"id\":\"bdd5a160-8811-46ad-84b2-33e6554cb054\",\"type\":\"GlyphRenderer\"}],\"sizing_mode\":\"scale_width\",\"title\":{\"id\":\"a46f79bd-303e-4532-9012-f30f9fce0d03\",\"type\":\"Title\"},\"toolbar\":{\"id\":\"750b6cbf-1051-4eea-806e-1659901909d6\",\"type\":\"Toolbar\"},\"x_range\":{\"id\":\"c6842c4d-0b3e-4bbd-a6f7-3c22baeec260\",\"type\":\"Range1d\"},\"x_scale\":{\"id\":\"4a8e7108-d939-4038-96fc-07ccdcea1324\",\"type\":\"LinearScale\"},\"y_range\":{\"id\":\"7746c277-f73c-4e4c-a1b1-89e5f93d2cf1\",\"type\":\"Range1d\"},\"y_scale\":{\"id\":\"a87dfc62-548c-432b-856e-f059e567d189\",\"type\":\"LinearScale\"}},\"id\":\"3ccc2427-0032-4583-a38a-ba8262f17ce5\",\"subtype\":\"Figure\",\"type\":\"Plot\"},{\"attributes\":{\"source\":{\"id\":\"9e01fa56-60ba-4fa5-b6d6-c3afabd35b4d\",\"type\":\"ColumnDataSource\"}},\"id\":\"88b75d29-a41e-40d2-9f24-33b283ebeeb8\",\"type\":\"CDSView\"},{\"attributes\":{\"factors\":[\"East Asia & Pacific\",\"Europe & Central Asia\",\"North America\",\"Latin America & Caribbean \"],\"palette\":[\"#3288bd\",\"#99d594\",\"#e6f598\",\"#fee08b\",\"#fc8d59\",\"#d53e4f\"]},\"id\":\"596fd64f-3741-4498-8d96-0ac63805e53b\",\"type\":\"CategoricalColorMapper\"},{\"attributes\":{\"bottom_units\":\"screen\",\"fill_alpha\":{\"value\":0.5},\"fill_color\":{\"value\":\"lightgrey\"},\"left_units\":\"screen\",\"level\":\"overlay\",\"line_alpha\":{\"value\":1.0},\"line_color\":{\"value\":\"black\"},\"line_dash\":[4,4],\"line_width\":{\"value\":2},\"plot\":null,\"render_mode\":\"css\",\"right_units\":\"screen\",\"top_units\":\"screen\"},\"id\":\"16996d17-1242-403d-bf7b-b51f0e331626\",\"type\":\"BoxAnnotation\"},{\"attributes\":{},\"id\":\"5f2e4a35-9289-4938-b0fa-f4342c2dad24\",\"type\":\"BasicTickFormatter\"},{\"attributes\":{\"callback\":null,\"point_policy\":\"follow_mouse\",\"renderers\":\"auto\",\"show_arrow\":false,\"tooltips\":\"@index\"},\"id\":\"65defeed-1686-4128-8d8b-9ffd5b704ceb\",\"type\":\"HoverTool\"},{\"attributes\":{\"children\":[{\"id\":\"d2b92489-3304-42f6-8f02-e74f98284e75\",\"type\":\"Slider\"}],\"sizing_mode\":\"scale_width\"},\"id\":\"5329224d-f779-4a3c-b3fd-1734550159d0\",\"type\":\"WidgetBox\"},{\"attributes\":{\"fill_alpha\":{\"value\":0.1},\"fill_color\":{\"value\":\"#1f77b4\"},\"line_alpha\":{\"value\":0.1},\"line_color\":{\"value\":\"#1f77b4\"},\"line_width\":{\"value\":0.5},\"size\":{\"field\":\"tech_export_rate\",\"units\":\"screen\"},\"x\":{\"field\":\"gdp_per_capita\"},\"y\":{\"field\":\"unemployment\"}},\"id\":\"cb16046d-20cd-4ef8-a823-4d87f2b5f09d\",\"type\":\"Circle\"},{\"attributes\":{\"callback\":null,\"end\":136000,\"start\":245},\"id\":\"c6842c4d-0b3e-4bbd-a6f7-3c22baeec260\",\"type\":\"Range1d\"},{\"attributes\":{},\"id\":\"1780b425-0cf8-44e3-8d5a-18009459c20f\",\"type\":\"WheelZoomTool\"},{\"attributes\":{},\"id\":\"1415dc12-ab74-42ba-ae61-0de5b7f624e1\",\"type\":\"UnionRenderers\"},{\"attributes\":{},\"id\":\"c1205b2e-9a2e-43de-a392-ea800283653a\",\"type\":\"HelpTool\"},{\"attributes\":{\"axis_label\":\"Unemployment Rate\",\"formatter\":{\"id\":\"724aea35-5de2-4d27-9c20-21ae5ed854d6\",\"type\":\"BasicTickFormatter\"},\"plot\":{\"id\":\"3ccc2427-0032-4583-a38a-ba8262f17ce5\",\"subtype\":\"Figure\",\"type\":\"Plot\"},\"ticker\":{\"id\":\"a0d2a301-612e-47b3-a45c-d53bc48250b8\",\"type\":\"SingleIntervalTicker\"}},\"id\":\"5f97264f-dab8-4da2-badf-c05923fdb04a\",\"type\":\"LinearAxis\"},{\"attributes\":{},\"id\":\"4a8e7108-d939-4038-96fc-07ccdcea1324\",\"type\":\"LinearScale\"},{\"attributes\":{},\"id\":\"724aea35-5de2-4d27-9c20-21ae5ed854d6\",\"type\":\"BasicTickFormatter\"},{\"attributes\":{\"children\":[{\"id\":\"3ccc2427-0032-4583-a38a-ba8262f17ce5\",\"subtype\":\"Figure\",\"type\":\"Plot\"}],\"sizing_mode\":\"scale_width\"},\"id\":\"270ef68e-c76c-4f11-9a0b-9b1c6d0b9e37\",\"type\":\"Row\"},{\"attributes\":{\"items\":[{\"id\":\"fab22198-fa6f-4434-b525-bcebfbd16936\",\"type\":\"LegendItem\"}],\"plot\":{\"id\":\"3ccc2427-0032-4583-a38a-ba8262f17ce5\",\"subtype\":\"Figure\",\"type\":\"Plot\"}},\"id\":\"adffecb5-55f5-42d6-8fce-b4042923ac84\",\"type\":\"Legend\"},{\"attributes\":{\"children\":[{\"id\":\"5329224d-f779-4a3c-b3fd-1734550159d0\",\"type\":\"WidgetBox\"},{\"id\":\"2b8af4f9-d35b-48e1-aee6-f0e00472a4a9\",\"type\":\"WidgetBox\"}],\"sizing_mode\":\"scale_width\"},\"id\":\"ccf74386-0430-4df9-aadf-8094300216d2\",\"type\":\"Row\"},{\"attributes\":{},\"id\":\"1ab99d37-1ef8-4202-b6f9-0a0e06187ef7\",\"type\":\"PanTool\"},{\"attributes\":{},\"id\":\"559236bc-4b8f-476b-b3cc-4af7d9b66f03\",\"type\":\"BasicTicker\"},{\"attributes\":{\"interval\":1},\"id\":\"a0d2a301-612e-47b3-a45c-d53bc48250b8\",\"type\":\"SingleIntervalTicker\"},{\"attributes\":{\"callback\":null,\"end\":2016,\"sizing_mode\":\"scale_width\",\"start\":1990,\"title\":\"Year\",\"value\":1990},\"id\":\"d2b92489-3304-42f6-8f02-e74f98284e75\",\"type\":\"Slider\"},{\"attributes\":{},\"id\":\"14cdcf59-c60a-449e-8cec-b31c3d2812b8\",\"type\":\"ResetTool\"},{\"attributes\":{\"axis_label\":\"GDP Per Capita ($USD)\",\"formatter\":{\"id\":\"5f2e4a35-9289-4938-b0fa-f4342c2dad24\",\"type\":\"BasicTickFormatter\"},\"plot\":{\"id\":\"3ccc2427-0032-4583-a38a-ba8262f17ce5\",\"subtype\":\"Figure\",\"type\":\"Plot\"},\"ticker\":{\"id\":\"81b526bc-2344-4e1c-9dd5-e6ab0a4ed555\",\"type\":\"SingleIntervalTicker\"}},\"id\":\"0af13c1c-e01a-4614-a602-10dcce2e6350\",\"type\":\"LinearAxis\"},{\"attributes\":{\"active_drag\":\"auto\",\"active_inspect\":\"auto\",\"active_multi\":null,\"active_scroll\":\"auto\",\"active_tap\":\"auto\",\"tools\":[{\"id\":\"1ab99d37-1ef8-4202-b6f9-0a0e06187ef7\",\"type\":\"PanTool\"},{\"id\":\"1780b425-0cf8-44e3-8d5a-18009459c20f\",\"type\":\"WheelZoomTool\"},{\"id\":\"fb53c7d1-da7a-4c9f-a23b-49f4373e0212\",\"type\":\"BoxZoomTool\"},{\"id\":\"5e3bc2ea-3e3f-4c26-8065-e388c3383b50\",\"type\":\"SaveTool\"},{\"id\":\"14cdcf59-c60a-449e-8cec-b31c3d2812b8\",\"type\":\"ResetTool\"},{\"id\":\"c1205b2e-9a2e-43de-a392-ea800283653a\",\"type\":\"HelpTool\"},{\"id\":\"65defeed-1686-4128-8d8b-9ffd5b704ceb\",\"type\":\"HoverTool\"}]},\"id\":\"750b6cbf-1051-4eea-806e-1659901909d6\",\"type\":\"Toolbar\"},{\"attributes\":{},\"id\":\"cf304691-997b-4bc5-a006-c051e9199607\",\"type\":\"Selection\"}],\"root_ids\":[\"2a853ede-292b-4047-87ff-32ba7e9ec388\"]},\"title\":\"Bokeh Application\",\"version\":\"0.13.0\"}};\n",
       "  var render_items = [{\"docid\":\"ec67fe3c-8d06-40a7-a7b0-51efb2e718e9\",\"notebook_comms_target\":\"7a93fa93-a2e1-4501-883a-758f63321656\",\"roots\":{\"2a853ede-292b-4047-87ff-32ba7e9ec388\":\"4a3ba40c-bb79-4cec-875c-88a1432157be\"}}];\n",
       "  root.Bokeh.embed.embed_items_notebook(docs_json, render_items);\n",
       "\n",
       "  }\n",
       "  if (root.Bokeh !== undefined) {\n",
       "    embed_document(root);\n",
       "  } else {\n",
       "    var attempts = 0;\n",
       "    var timer = setInterval(function(root) {\n",
       "      if (root.Bokeh !== undefined) {\n",
       "        embed_document(root);\n",
       "        clearInterval(timer);\n",
       "      }\n",
       "      attempts++;\n",
       "      if (attempts > 100) {\n",
       "        console.log(\"Bokeh: ERROR: Unable to run BokehJS code because BokehJS library is missing\")\n",
       "        clearInterval(timer);\n",
       "      }\n",
       "    }, 10, root)\n",
       "  }\n",
       "})(window);"
      ],
      "application/vnd.bokehjs_exec.v0+json": ""
     },
     "metadata": {
      "application/vnd.bokehjs_exec.v0+json": {
       "id": "2a853ede-292b-4047-87ff-32ba7e9ec388"
      }
     },
     "output_type": "display_data"
    }
   ],
   "source": [
    "handle = show(layout, notebook_handle=True)\n",
    "\n",
    "# Update the plot title in the earlier cell\n",
    "#plot.title.text = \"New Title\"\n",
    "push_notebook(handle=handle)"
   ]
  },
  {
   "cell_type": "code",
   "execution_count": 9,
   "metadata": {},
   "outputs": [],
   "source": [
    "curdoc().add_root(layout)\n",
    "curdoc().title = \"Gapminder\""
   ]
  },
  {
   "cell_type": "code",
   "execution_count": 12,
   "metadata": {},
   "outputs": [
    {
     "data": {
      "text/plain": [
       "<bokeh.document.document.Document at 0x7f82d80917f0>"
      ]
     },
     "execution_count": 12,
     "metadata": {},
     "output_type": "execute_result"
    }
   ],
   "source": [
    "curdoc()"
   ]
  },
  {
   "cell_type": "code",
   "execution_count": null,
   "metadata": {},
   "outputs": [],
   "source": []
  },
  {
   "cell_type": "code",
   "execution_count": null,
   "metadata": {},
   "outputs": [],
   "source": []
  },
  {
   "cell_type": "code",
   "execution_count": null,
   "metadata": {},
   "outputs": [],
   "source": []
  },
  {
   "cell_type": "code",
   "execution_count": null,
   "metadata": {},
   "outputs": [],
   "source": []
  }
 ],
 "metadata": {
  "kernelspec": {
   "display_name": "Python 3",
   "language": "python",
   "name": "python3"
  },
  "language_info": {
   "codemirror_mode": {
    "name": "ipython",
    "version": 3
   },
   "file_extension": ".py",
   "mimetype": "text/x-python",
   "name": "python",
   "nbconvert_exporter": "python",
   "pygments_lexer": "ipython3",
   "version": "3.6.5"
  }
 },
 "nbformat": 4,
 "nbformat_minor": 2
}
